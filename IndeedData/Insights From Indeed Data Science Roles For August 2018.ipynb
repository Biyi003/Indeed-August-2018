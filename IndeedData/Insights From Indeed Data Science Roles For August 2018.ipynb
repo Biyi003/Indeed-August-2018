{
 "cells": [
  {
   "cell_type": "markdown",
   "metadata": {},
   "source": [
    "## About\n",
    "\n",
    "The project is about an analysis of Indeed Job Postings for Data Science Roles for the month of August 2018. Data was manipulated to extract insights. Credit goes to , who scrapped the data."
   ]
  },
  {
   "cell_type": "markdown",
   "metadata": {},
   "source": [
    "### Import necessary libraries"
   ]
  },
  {
   "cell_type": "code",
   "execution_count": 60,
   "metadata": {},
   "outputs": [],
   "source": [
    "import pandas as pd\n",
    "import seaborn as sns\n",
    "import matplotlib.pyplot as plt\n",
    "%matplotlib inline"
   ]
  },
  {
   "cell_type": "markdown",
   "metadata": {},
   "source": [
    "### Load the data"
   ]
  },
  {
   "cell_type": "code",
   "execution_count": 61,
   "metadata": {},
   "outputs": [
    {
     "data": {
      "text/html": [
       "<div>\n",
       "<style scoped>\n",
       "    .dataframe tbody tr th:only-of-type {\n",
       "        vertical-align: middle;\n",
       "    }\n",
       "\n",
       "    .dataframe tbody tr th {\n",
       "        vertical-align: top;\n",
       "    }\n",
       "\n",
       "    .dataframe thead th {\n",
       "        text-align: right;\n",
       "    }\n",
       "</style>\n",
       "<table border=\"1\" class=\"dataframe\">\n",
       "  <thead>\n",
       "    <tr style=\"text-align: right;\">\n",
       "      <th></th>\n",
       "      <th>position</th>\n",
       "      <th>company</th>\n",
       "      <th>description</th>\n",
       "      <th>reviews</th>\n",
       "      <th>location</th>\n",
       "    </tr>\n",
       "  </thead>\n",
       "  <tbody>\n",
       "    <tr>\n",
       "      <th>0</th>\n",
       "      <td>Development Director</td>\n",
       "      <td>ALS TDI</td>\n",
       "      <td>Development Director\\nALS Therapy Development ...</td>\n",
       "      <td>NaN</td>\n",
       "      <td>Atlanta, GA 30301</td>\n",
       "    </tr>\n",
       "    <tr>\n",
       "      <th>1</th>\n",
       "      <td>An Ostentatiously-Excitable Principal Research...</td>\n",
       "      <td>The Hexagon Lavish</td>\n",
       "      <td>Job Description\\n\\n\"The road that leads to acc...</td>\n",
       "      <td>NaN</td>\n",
       "      <td>Atlanta, GA</td>\n",
       "    </tr>\n",
       "    <tr>\n",
       "      <th>2</th>\n",
       "      <td>Data Scientist</td>\n",
       "      <td>Xpert Staffing</td>\n",
       "      <td>Growing company located in the Atlanta, GA are...</td>\n",
       "      <td>NaN</td>\n",
       "      <td>Atlanta, GA</td>\n",
       "    </tr>\n",
       "    <tr>\n",
       "      <th>3</th>\n",
       "      <td>Data Analyst</td>\n",
       "      <td>Operation HOPE</td>\n",
       "      <td>DEPARTMENT: Program OperationsPOSITION LOCATIO...</td>\n",
       "      <td>44.0</td>\n",
       "      <td>Atlanta, GA 30303</td>\n",
       "    </tr>\n",
       "    <tr>\n",
       "      <th>4</th>\n",
       "      <td>Assistant Professor -TT - Signal Processing &amp; ...</td>\n",
       "      <td>Emory University</td>\n",
       "      <td>DESCRIPTION\\nThe Emory University Department o...</td>\n",
       "      <td>550.0</td>\n",
       "      <td>Atlanta, GA</td>\n",
       "    </tr>\n",
       "  </tbody>\n",
       "</table>\n",
       "</div>"
      ],
      "text/plain": [
       "                                            position             company  \\\n",
       "0                               Development Director             ALS TDI   \n",
       "1  An Ostentatiously-Excitable Principal Research...  The Hexagon Lavish   \n",
       "2                                     Data Scientist      Xpert Staffing   \n",
       "3                                       Data Analyst      Operation HOPE   \n",
       "4  Assistant Professor -TT - Signal Processing & ...    Emory University   \n",
       "\n",
       "                                         description  reviews  \\\n",
       "0  Development Director\\nALS Therapy Development ...      NaN   \n",
       "1  Job Description\\n\\n\"The road that leads to acc...      NaN   \n",
       "2  Growing company located in the Atlanta, GA are...      NaN   \n",
       "3  DEPARTMENT: Program OperationsPOSITION LOCATIO...     44.0   \n",
       "4  DESCRIPTION\\nThe Emory University Department o...    550.0   \n",
       "\n",
       "             location  \n",
       "0  Atlanta, GA 30301   \n",
       "1         Atlanta, GA  \n",
       "2         Atlanta, GA  \n",
       "3  Atlanta, GA 30303   \n",
       "4         Atlanta, GA  "
      ]
     },
     "execution_count": 61,
     "metadata": {},
     "output_type": "execute_result"
    }
   ],
   "source": [
    "df = pd.read_csv(\"alldata.csv\")\n",
    "df.head()"
   ]
  },
  {
   "cell_type": "markdown",
   "metadata": {},
   "source": [
    "### Exploring the data"
   ]
  },
  {
   "cell_type": "code",
   "execution_count": 62,
   "metadata": {},
   "outputs": [
    {
     "name": "stdout",
     "output_type": "stream",
     "text": [
      "<class 'pandas.core.frame.DataFrame'>\n",
      "RangeIndex: 6964 entries, 0 to 6963\n",
      "Data columns (total 5 columns):\n",
      "position       6953 non-null object\n",
      "company        6953 non-null object\n",
      "description    6953 non-null object\n",
      "reviews        5326 non-null float64\n",
      "location       6953 non-null object\n",
      "dtypes: float64(1), object(4)\n",
      "memory usage: 272.1+ KB\n"
     ]
    }
   ],
   "source": [
    "df.info()"
   ]
  },
  {
   "cell_type": "code",
   "execution_count": 63,
   "metadata": {},
   "outputs": [
    {
     "data": {
      "text/html": [
       "<div>\n",
       "<style scoped>\n",
       "    .dataframe tbody tr th:only-of-type {\n",
       "        vertical-align: middle;\n",
       "    }\n",
       "\n",
       "    .dataframe tbody tr th {\n",
       "        vertical-align: top;\n",
       "    }\n",
       "\n",
       "    .dataframe thead th {\n",
       "        text-align: right;\n",
       "    }\n",
       "</style>\n",
       "<table border=\"1\" class=\"dataframe\">\n",
       "  <thead>\n",
       "    <tr style=\"text-align: right;\">\n",
       "      <th></th>\n",
       "      <th>reviews</th>\n",
       "    </tr>\n",
       "  </thead>\n",
       "  <tbody>\n",
       "    <tr>\n",
       "      <th>count</th>\n",
       "      <td>5326.000000</td>\n",
       "    </tr>\n",
       "    <tr>\n",
       "      <th>mean</th>\n",
       "      <td>3179.089185</td>\n",
       "    </tr>\n",
       "    <tr>\n",
       "      <th>std</th>\n",
       "      <td>8448.515056</td>\n",
       "    </tr>\n",
       "    <tr>\n",
       "      <th>min</th>\n",
       "      <td>2.000000</td>\n",
       "    </tr>\n",
       "    <tr>\n",
       "      <th>25%</th>\n",
       "      <td>27.000000</td>\n",
       "    </tr>\n",
       "    <tr>\n",
       "      <th>50%</th>\n",
       "      <td>230.000000</td>\n",
       "    </tr>\n",
       "    <tr>\n",
       "      <th>75%</th>\n",
       "      <td>1578.000000</td>\n",
       "    </tr>\n",
       "    <tr>\n",
       "      <th>max</th>\n",
       "      <td>148114.000000</td>\n",
       "    </tr>\n",
       "  </tbody>\n",
       "</table>\n",
       "</div>"
      ],
      "text/plain": [
       "             reviews\n",
       "count    5326.000000\n",
       "mean     3179.089185\n",
       "std      8448.515056\n",
       "min         2.000000\n",
       "25%        27.000000\n",
       "50%       230.000000\n",
       "75%      1578.000000\n",
       "max    148114.000000"
      ]
     },
     "execution_count": 63,
     "metadata": {},
     "output_type": "execute_result"
    }
   ],
   "source": [
    "df.describe()"
   ]
  },
  {
   "cell_type": "markdown",
   "metadata": {},
   "source": [
    "The **Reviews** Column in the data seems to be the only numeric column. It gives information about the number of reviews for each job posting."
   ]
  },
  {
   "cell_type": "code",
   "execution_count": 64,
   "metadata": {},
   "outputs": [
    {
     "data": {
      "text/plain": [
       "<matplotlib.axes._subplots.AxesSubplot at 0x1a1e3224a8>"
      ]
     },
     "execution_count": 64,
     "metadata": {},
     "output_type": "execute_result"
    },
    {
     "data": {
      "image/png": "[encoded data removed]",
      "text/plain": [
       "<Figure size 432x288 with 2 Axes>"
      ]
     },
     "metadata": {
      "needs_background": "light"
     },
     "output_type": "display_data"
    }
   ],
   "source": [
    "sns.heatmap(df.isnull())"
   ]
  },
  {
   "cell_type": "code",
   "execution_count": 65,
   "metadata": {
    "scrolled": true
   },
   "outputs": [
    {
     "name": "stdout",
     "output_type": "stream",
     "text": [
      "Null entries in the Reviews column: 1638\n",
      "Non-null entries in the Reviews column: 5326\n"
     ]
    }
   ],
   "source": [
    "rev_nul = df[['reviews']].isnull()\n",
    "\n",
    "print('Null entries in the Reviews column:', len(rev_nul[rev_nul['reviews'] == True]))\n",
    "print('Non-null entries in the Reviews column:', len(rev_nul[rev_nul['reviews'] == False]))"
   ]
  },
  {
   "cell_type": "markdown",
   "metadata": {},
   "source": [
    "Giving the absence of too many entries in the **Reviews** Column, in such a case as this, it is advisable to drop the column"
   ]
  },
  {
   "cell_type": "code",
   "execution_count": 66,
   "metadata": {},
   "outputs": [],
   "source": [
    "df.drop(['reviews'], axis = 1, inplace = True)"
   ]
  },
  {
   "cell_type": "code",
   "execution_count": 67,
   "metadata": {},
   "outputs": [
    {
     "data": {
      "text/plain": [
       "<matplotlib.axes._subplots.AxesSubplot at 0x1a1e4b1cc0>"
      ]
     },
     "execution_count": 67,
     "metadata": {},
     "output_type": "execute_result"
    },
    {
     "data": {
      "image/png": "[encoded data removed]",
      "text/plain": [
       "<Figure size 432x288 with 2 Axes>"
      ]
     },
     "metadata": {
      "needs_background": "light"
     },
     "output_type": "display_data"
    }
   ],
   "source": [
    "sns.heatmap(df.isnull())"
   ]
  },
  {
   "cell_type": "code",
   "execution_count": 68,
   "metadata": {},
   "outputs": [
    {
     "name": "stdout",
     "output_type": "stream",
     "text": [
      "<class 'pandas.core.frame.DataFrame'>\n",
      "RangeIndex: 6964 entries, 0 to 6963\n",
      "Data columns (total 4 columns):\n",
      "position       6953 non-null object\n",
      "company        6953 non-null object\n",
      "description    6953 non-null object\n",
      "location       6953 non-null object\n",
      "dtypes: object(4)\n",
      "memory usage: 217.7+ KB\n"
     ]
    }
   ],
   "source": [
    "df.info()"
   ]
  },
  {
   "cell_type": "markdown",
   "metadata": {},
   "source": [
    "Of the non-null objects returned by the **``info``** method, the only ones accounted for in the reviews column. There's therefore a possibly that python picked strings containing **nan** as null. There **``where``** method can be used to solve this. Alternatively, since the supposed null values are a very small percentage as compared to the whole data, the entries can be dropped."
   ]
  },
  {
   "cell_type": "code",
   "execution_count": 69,
   "metadata": {},
   "outputs": [],
   "source": [
    "#where method\n",
    "#df.where(pd.notna, 'nan')"
   ]
  },
  {
   "cell_type": "code",
   "execution_count": 70,
   "metadata": {},
   "outputs": [],
   "source": [
    "df = df.dropna()"
   ]
  },
  {
   "cell_type": "markdown",
   "metadata": {},
   "source": [
    "Now that the null values have been dealt with, more exploration can be done easily to gain insight"
   ]
  },
  {
   "cell_type": "code",
   "execution_count": 71,
   "metadata": {},
   "outputs": [
    {
     "name": "stdout",
     "output_type": "stream",
     "text": [
      "<class 'pandas.core.frame.DataFrame'>\n",
      "Int64Index: 6953 entries, 0 to 6963\n",
      "Data columns (total 4 columns):\n",
      "position       6953 non-null object\n",
      "company        6953 non-null object\n",
      "description    6953 non-null object\n",
      "location       6953 non-null object\n",
      "dtypes: object(4)\n",
      "memory usage: 271.6+ KB\n"
     ]
    }
   ],
   "source": [
    "df.info()"
   ]
  },
  {
   "cell_type": "markdown",
   "metadata": {},
   "source": [
    "There are quite a number of ways to go about extracting insights. "
   ]
  },
  {
   "cell_type": "markdown",
   "metadata": {},
   "source": [
    "### Companies\n",
    "\n",
    "Companies can be with their demand for workers in the data science roles."
   ]
  },
  {
   "cell_type": "code",
   "execution_count": 72,
   "metadata": {
    "scrolled": true
   },
   "outputs": [
    {
     "data": {
      "text/plain": [
       "Amazon.com                                           358\n",
       "Ball Aerospace                                       187\n",
       "Microsoft                                            137\n",
       "Google                                               134\n",
       "NYU Langone Health                                    77\n",
       "Fred Hutchinson Cancer Research Center                70\n",
       "KPMG                                                  66\n",
       "Lab126                                                50\n",
       "Broad Institute                                       49\n",
       "Facebook                                              49\n",
       "Walmart eCommerce                                     45\n",
       "McKinsey & Company                                    41\n",
       "University of Washington                              39\n",
       "Harnham                                               39\n",
       "Takeda Pharmaceutical                                 39\n",
       "Celgene Corporation                                   34\n",
       "Oath Inc                                              34\n",
       "Pharmacyclics, an Abbvie Company                      34\n",
       "Cymer                                                 32\n",
       "Brigham & Women's Hospital(BWH)                       31\n",
       "Biogen                                                30\n",
       "Sanofi                                                28\n",
       "Amgen                                                 28\n",
       "Jacobs                                                27\n",
       "JP Morgan Chase                                       27\n",
       "Illumina                                              27\n",
       "Zillow Group                                          26\n",
       "JD.com                                                26\n",
       "JUUL Labs                                             26\n",
       "CDK Global                                            24\n",
       "                                                    ... \n",
       "ConAgra Foods                                          1\n",
       "Washington State Patrol                                1\n",
       "Federal Reserve Bank of New York                       1\n",
       "Tilting Point                                          1\n",
       "Bizible                                                1\n",
       "Will-N-Able                                            1\n",
       "Rauxa                                                  1\n",
       "GEI Consultants Inc                                    1\n",
       "Recorded Future                                        1\n",
       "AccessLex Institute                                    1\n",
       "Blue Mesa Health                                       1\n",
       "OBXtek                                                 1\n",
       "Joinn Laboratories CA, Inc                             1\n",
       "Federation for American Immigration Reform (Fair)      1\n",
       "Drug Policy Alliance                                   1\n",
       "The Catholic University of America                     1\n",
       "Maxus                                                  1\n",
       "Daugherty New York                                     1\n",
       "Spectrum Brands                                        1\n",
       "Neer Info Solutions                                    1\n",
       "MetroPlus Health Plan                                  1\n",
       "Frequence                                              1\n",
       "Rent the Runway                                        1\n",
       "Carters, Inc                                           1\n",
       "Belkin                                                 1\n",
       "World Wildlife Fund                                    1\n",
       "Streetline                                             1\n",
       "American Nursing Services                              1\n",
       "Feeding America                                        1\n",
       "Sensient Technologies Corporation                      1\n",
       "Name: company, Length: 2213, dtype: int64"
      ]
     },
     "execution_count": 72,
     "metadata": {},
     "output_type": "execute_result"
    }
   ],
   "source": [
    "df['company'].value_counts()"
   ]
  },
  {
   "cell_type": "code",
   "execution_count": 73,
   "metadata": {
    "scrolled": true
   },
   "outputs": [
    {
     "data": {
      "text/plain": [
       "Amazon.com                                358\n",
       "Ball Aerospace                            187\n",
       "Microsoft                                 137\n",
       "Google                                    134\n",
       "NYU Langone Health                         77\n",
       "Fred Hutchinson Cancer Research Center     70\n",
       "KPMG                                       66\n",
       "Lab126                                     50\n",
       "Broad Institute                            49\n",
       "Facebook                                   49\n",
       "Walmart eCommerce                          45\n",
       "McKinsey & Company                         41\n",
       "University of Washington                   39\n",
       "Harnham                                    39\n",
       "Takeda Pharmaceutical                      39\n",
       "Celgene Corporation                        34\n",
       "Oath Inc                                   34\n",
       "Pharmacyclics, an Abbvie Company           34\n",
       "Cymer                                      32\n",
       "Brigham & Women's Hospital(BWH)            31\n",
       "Biogen                                     30\n",
       "Sanofi                                     28\n",
       "Amgen                                      28\n",
       "Jacobs                                     27\n",
       "JP Morgan Chase                            27\n",
       "Illumina                                   27\n",
       "Zillow Group                               26\n",
       "JD.com                                     26\n",
       "JUUL Labs                                  26\n",
       "CDK Global                                 24\n",
       "Cedars-Sinai                               24\n",
       "Uber                                       23\n",
       "University of Texas at Austin              23\n",
       "The Climate Corporation                    23\n",
       "Accenture                                  22\n",
       "Massachusetts General Hospital(MGH)        22\n",
       "Genentech                                  22\n",
       "Civis Analytics                            22\n",
       "Wayfair                                    22\n",
       "Tempus                                     22\n",
       "Burns & McDonnell                          22\n",
       "NOKIA                                      22\n",
       "Vertex Pharmaceuticals                     22\n",
       "Vertex                                     21\n",
       "Harvard University                         21\n",
       "Autodesk                                   20\n",
       "Nielsen                                    20\n",
       "ICF                                        20\n",
       "DEPT OF HEALTH/MENTAL HYGIENE              20\n",
       "Jobspring Partners                         19\n",
       "Name: company, dtype: int64"
      ]
     },
     "execution_count": 73,
     "metadata": {},
     "output_type": "execute_result"
    }
   ],
   "source": [
    "df['company'].value_counts().head(50)"
   ]
  },
  {
   "cell_type": "code",
   "execution_count": 74,
   "metadata": {},
   "outputs": [],
   "source": [
    "company_df = pd.DataFrame(df['company'].value_counts().head(50))"
   ]
  },
  {
   "cell_type": "code",
   "execution_count": 75,
   "metadata": {},
   "outputs": [
    {
     "data": {
      "text/html": [
       "<div>\n",
       "<style scoped>\n",
       "    .dataframe tbody tr th:only-of-type {\n",
       "        vertical-align: middle;\n",
       "    }\n",
       "\n",
       "    .dataframe tbody tr th {\n",
       "        vertical-align: top;\n",
       "    }\n",
       "\n",
       "    .dataframe thead th {\n",
       "        text-align: right;\n",
       "    }\n",
       "</style>\n",
       "<table border=\"1\" class=\"dataframe\">\n",
       "  <thead>\n",
       "    <tr style=\"text-align: right;\">\n",
       "      <th></th>\n",
       "      <th>index</th>\n",
       "      <th>company</th>\n",
       "    </tr>\n",
       "  </thead>\n",
       "  <tbody>\n",
       "    <tr>\n",
       "      <th>0</th>\n",
       "      <td>Amazon.com</td>\n",
       "      <td>358</td>\n",
       "    </tr>\n",
       "    <tr>\n",
       "      <th>1</th>\n",
       "      <td>Ball Aerospace</td>\n",
       "      <td>187</td>\n",
       "    </tr>\n",
       "    <tr>\n",
       "      <th>2</th>\n",
       "      <td>Microsoft</td>\n",
       "      <td>137</td>\n",
       "    </tr>\n",
       "    <tr>\n",
       "      <th>3</th>\n",
       "      <td>Google</td>\n",
       "      <td>134</td>\n",
       "    </tr>\n",
       "    <tr>\n",
       "      <th>4</th>\n",
       "      <td>NYU Langone Health</td>\n",
       "      <td>77</td>\n",
       "    </tr>\n",
       "  </tbody>\n",
       "</table>\n",
       "</div>"
      ],
      "text/plain": [
       "                index  company\n",
       "0          Amazon.com      358\n",
       "1      Ball Aerospace      187\n",
       "2           Microsoft      137\n",
       "3              Google      134\n",
       "4  NYU Langone Health       77"
      ]
     },
     "execution_count": 75,
     "metadata": {},
     "output_type": "execute_result"
    }
   ],
   "source": [
    "company_df.reset_index(inplace = True)\n",
    "company_df.head()"
   ]
  },
  {
   "cell_type": "code",
   "execution_count": 76,
   "metadata": {},
   "outputs": [],
   "source": [
    "company_df.rename(columns = {'index' : 'company', 'company' : 'count'}, inplace = True)"
   ]
  },
  {
   "cell_type": "code",
   "execution_count": 77,
   "metadata": {},
   "outputs": [
    {
     "data": {
      "text/html": [
       "<div>\n",
       "<style scoped>\n",
       "    .dataframe tbody tr th:only-of-type {\n",
       "        vertical-align: middle;\n",
       "    }\n",
       "\n",
       "    .dataframe tbody tr th {\n",
       "        vertical-align: top;\n",
       "    }\n",
       "\n",
       "    .dataframe thead th {\n",
       "        text-align: right;\n",
       "    }\n",
       "</style>\n",
       "<table border=\"1\" class=\"dataframe\">\n",
       "  <thead>\n",
       "    <tr style=\"text-align: right;\">\n",
       "      <th></th>\n",
       "      <th>company</th>\n",
       "      <th>count</th>\n",
       "    </tr>\n",
       "  </thead>\n",
       "  <tbody>\n",
       "    <tr>\n",
       "      <th>0</th>\n",
       "      <td>Amazon.com</td>\n",
       "      <td>358</td>\n",
       "    </tr>\n",
       "    <tr>\n",
       "      <th>1</th>\n",
       "      <td>Ball Aerospace</td>\n",
       "      <td>187</td>\n",
       "    </tr>\n",
       "    <tr>\n",
       "      <th>2</th>\n",
       "      <td>Microsoft</td>\n",
       "      <td>137</td>\n",
       "    </tr>\n",
       "    <tr>\n",
       "      <th>3</th>\n",
       "      <td>Google</td>\n",
       "      <td>134</td>\n",
       "    </tr>\n",
       "    <tr>\n",
       "      <th>4</th>\n",
       "      <td>NYU Langone Health</td>\n",
       "      <td>77</td>\n",
       "    </tr>\n",
       "  </tbody>\n",
       "</table>\n",
       "</div>"
      ],
      "text/plain": [
       "              company  count\n",
       "0          Amazon.com    358\n",
       "1      Ball Aerospace    187\n",
       "2           Microsoft    137\n",
       "3              Google    134\n",
       "4  NYU Langone Health     77"
      ]
     },
     "execution_count": 77,
     "metadata": {},
     "output_type": "execute_result"
    }
   ],
   "source": [
    "company_df.head()"
   ]
  },
  {
   "cell_type": "code",
   "execution_count": 78,
   "metadata": {},
   "outputs": [
    {
     "data": {
      "text/plain": [
       "<matplotlib.axes._subplots.AxesSubplot at 0x1a1d340ef0>"
      ]
     },
     "execution_count": 78,
     "metadata": {},
     "output_type": "execute_result"
    },
    {
     "data": {
      "image/png": "[encoded data removed]",
      "text/plain": [
       "<Figure size 432x288 with 1 Axes>"
      ]
     },
     "metadata": {
      "needs_background": "light"
     },
     "output_type": "display_data"
    }
   ],
   "source": [
    "sns.barplot(y = company_df['company'].head(15), x = company_df['count'].head(15))"
   ]
  },
  {
   "cell_type": "code",
   "execution_count": 79,
   "metadata": {},
   "outputs": [],
   "source": [
    "writer = pd.ExcelWriter('Companies.xlsx')\n",
    "company_df.to_excel(writer,'Sheet1')\n",
    "writer.save()"
   ]
  },
  {
   "cell_type": "code",
   "execution_count": 80,
   "metadata": {
    "scrolled": true
   },
   "outputs": [
    {
     "data": {
      "text/html": [
       "<div>\n",
       "<style scoped>\n",
       "    .dataframe tbody tr th:only-of-type {\n",
       "        vertical-align: middle;\n",
       "    }\n",
       "\n",
       "    .dataframe tbody tr th {\n",
       "        vertical-align: top;\n",
       "    }\n",
       "\n",
       "    .dataframe thead th {\n",
       "        text-align: right;\n",
       "    }\n",
       "</style>\n",
       "<table border=\"1\" class=\"dataframe\">\n",
       "  <thead>\n",
       "    <tr style=\"text-align: right;\">\n",
       "      <th></th>\n",
       "      <th>company</th>\n",
       "      <th>count</th>\n",
       "    </tr>\n",
       "  </thead>\n",
       "  <tbody>\n",
       "    <tr>\n",
       "      <th>0</th>\n",
       "      <td>Amazon.com</td>\n",
       "      <td>358</td>\n",
       "    </tr>\n",
       "    <tr>\n",
       "      <th>1</th>\n",
       "      <td>Ball Aerospace</td>\n",
       "      <td>187</td>\n",
       "    </tr>\n",
       "    <tr>\n",
       "      <th>2</th>\n",
       "      <td>Microsoft</td>\n",
       "      <td>137</td>\n",
       "    </tr>\n",
       "    <tr>\n",
       "      <th>3</th>\n",
       "      <td>Google</td>\n",
       "      <td>134</td>\n",
       "    </tr>\n",
       "    <tr>\n",
       "      <th>4</th>\n",
       "      <td>NYU Langone Health</td>\n",
       "      <td>77</td>\n",
       "    </tr>\n",
       "    <tr>\n",
       "      <th>5</th>\n",
       "      <td>Fred Hutchinson Cancer Research Center</td>\n",
       "      <td>70</td>\n",
       "    </tr>\n",
       "    <tr>\n",
       "      <th>6</th>\n",
       "      <td>KPMG</td>\n",
       "      <td>66</td>\n",
       "    </tr>\n",
       "    <tr>\n",
       "      <th>7</th>\n",
       "      <td>Lab126</td>\n",
       "      <td>50</td>\n",
       "    </tr>\n",
       "    <tr>\n",
       "      <th>8</th>\n",
       "      <td>Broad Institute</td>\n",
       "      <td>49</td>\n",
       "    </tr>\n",
       "    <tr>\n",
       "      <th>9</th>\n",
       "      <td>Facebook</td>\n",
       "      <td>49</td>\n",
       "    </tr>\n",
       "    <tr>\n",
       "      <th>10</th>\n",
       "      <td>Walmart eCommerce</td>\n",
       "      <td>45</td>\n",
       "    </tr>\n",
       "    <tr>\n",
       "      <th>11</th>\n",
       "      <td>McKinsey &amp; Company</td>\n",
       "      <td>41</td>\n",
       "    </tr>\n",
       "    <tr>\n",
       "      <th>12</th>\n",
       "      <td>University of Washington</td>\n",
       "      <td>39</td>\n",
       "    </tr>\n",
       "    <tr>\n",
       "      <th>13</th>\n",
       "      <td>Harnham</td>\n",
       "      <td>39</td>\n",
       "    </tr>\n",
       "    <tr>\n",
       "      <th>14</th>\n",
       "      <td>Takeda Pharmaceutical</td>\n",
       "      <td>39</td>\n",
       "    </tr>\n",
       "    <tr>\n",
       "      <th>15</th>\n",
       "      <td>Celgene Corporation</td>\n",
       "      <td>34</td>\n",
       "    </tr>\n",
       "    <tr>\n",
       "      <th>16</th>\n",
       "      <td>Oath Inc</td>\n",
       "      <td>34</td>\n",
       "    </tr>\n",
       "    <tr>\n",
       "      <th>17</th>\n",
       "      <td>Pharmacyclics, an Abbvie Company</td>\n",
       "      <td>34</td>\n",
       "    </tr>\n",
       "    <tr>\n",
       "      <th>18</th>\n",
       "      <td>Cymer</td>\n",
       "      <td>32</td>\n",
       "    </tr>\n",
       "    <tr>\n",
       "      <th>19</th>\n",
       "      <td>Brigham &amp; Women's Hospital(BWH)</td>\n",
       "      <td>31</td>\n",
       "    </tr>\n",
       "    <tr>\n",
       "      <th>20</th>\n",
       "      <td>Biogen</td>\n",
       "      <td>30</td>\n",
       "    </tr>\n",
       "    <tr>\n",
       "      <th>21</th>\n",
       "      <td>Sanofi</td>\n",
       "      <td>28</td>\n",
       "    </tr>\n",
       "    <tr>\n",
       "      <th>22</th>\n",
       "      <td>Amgen</td>\n",
       "      <td>28</td>\n",
       "    </tr>\n",
       "    <tr>\n",
       "      <th>23</th>\n",
       "      <td>Jacobs</td>\n",
       "      <td>27</td>\n",
       "    </tr>\n",
       "    <tr>\n",
       "      <th>24</th>\n",
       "      <td>JP Morgan Chase</td>\n",
       "      <td>27</td>\n",
       "    </tr>\n",
       "    <tr>\n",
       "      <th>25</th>\n",
       "      <td>Illumina</td>\n",
       "      <td>27</td>\n",
       "    </tr>\n",
       "    <tr>\n",
       "      <th>26</th>\n",
       "      <td>Zillow Group</td>\n",
       "      <td>26</td>\n",
       "    </tr>\n",
       "    <tr>\n",
       "      <th>27</th>\n",
       "      <td>JD.com</td>\n",
       "      <td>26</td>\n",
       "    </tr>\n",
       "    <tr>\n",
       "      <th>28</th>\n",
       "      <td>JUUL Labs</td>\n",
       "      <td>26</td>\n",
       "    </tr>\n",
       "    <tr>\n",
       "      <th>29</th>\n",
       "      <td>CDK Global</td>\n",
       "      <td>24</td>\n",
       "    </tr>\n",
       "    <tr>\n",
       "      <th>30</th>\n",
       "      <td>Cedars-Sinai</td>\n",
       "      <td>24</td>\n",
       "    </tr>\n",
       "    <tr>\n",
       "      <th>31</th>\n",
       "      <td>Uber</td>\n",
       "      <td>23</td>\n",
       "    </tr>\n",
       "    <tr>\n",
       "      <th>32</th>\n",
       "      <td>University of Texas at Austin</td>\n",
       "      <td>23</td>\n",
       "    </tr>\n",
       "    <tr>\n",
       "      <th>33</th>\n",
       "      <td>The Climate Corporation</td>\n",
       "      <td>23</td>\n",
       "    </tr>\n",
       "    <tr>\n",
       "      <th>34</th>\n",
       "      <td>Accenture</td>\n",
       "      <td>22</td>\n",
       "    </tr>\n",
       "    <tr>\n",
       "      <th>35</th>\n",
       "      <td>Massachusetts General Hospital(MGH)</td>\n",
       "      <td>22</td>\n",
       "    </tr>\n",
       "    <tr>\n",
       "      <th>36</th>\n",
       "      <td>Genentech</td>\n",
       "      <td>22</td>\n",
       "    </tr>\n",
       "    <tr>\n",
       "      <th>37</th>\n",
       "      <td>Civis Analytics</td>\n",
       "      <td>22</td>\n",
       "    </tr>\n",
       "    <tr>\n",
       "      <th>38</th>\n",
       "      <td>Wayfair</td>\n",
       "      <td>22</td>\n",
       "    </tr>\n",
       "    <tr>\n",
       "      <th>39</th>\n",
       "      <td>Tempus</td>\n",
       "      <td>22</td>\n",
       "    </tr>\n",
       "    <tr>\n",
       "      <th>40</th>\n",
       "      <td>Burns &amp; McDonnell</td>\n",
       "      <td>22</td>\n",
       "    </tr>\n",
       "    <tr>\n",
       "      <th>41</th>\n",
       "      <td>NOKIA</td>\n",
       "      <td>22</td>\n",
       "    </tr>\n",
       "    <tr>\n",
       "      <th>42</th>\n",
       "      <td>Vertex Pharmaceuticals</td>\n",
       "      <td>22</td>\n",
       "    </tr>\n",
       "    <tr>\n",
       "      <th>43</th>\n",
       "      <td>Vertex</td>\n",
       "      <td>21</td>\n",
       "    </tr>\n",
       "    <tr>\n",
       "      <th>44</th>\n",
       "      <td>Harvard University</td>\n",
       "      <td>21</td>\n",
       "    </tr>\n",
       "    <tr>\n",
       "      <th>45</th>\n",
       "      <td>Autodesk</td>\n",
       "      <td>20</td>\n",
       "    </tr>\n",
       "    <tr>\n",
       "      <th>46</th>\n",
       "      <td>Nielsen</td>\n",
       "      <td>20</td>\n",
       "    </tr>\n",
       "    <tr>\n",
       "      <th>47</th>\n",
       "      <td>ICF</td>\n",
       "      <td>20</td>\n",
       "    </tr>\n",
       "    <tr>\n",
       "      <th>48</th>\n",
       "      <td>DEPT OF HEALTH/MENTAL HYGIENE</td>\n",
       "      <td>20</td>\n",
       "    </tr>\n",
       "    <tr>\n",
       "      <th>49</th>\n",
       "      <td>Jobspring Partners</td>\n",
       "      <td>19</td>\n",
       "    </tr>\n",
       "  </tbody>\n",
       "</table>\n",
       "</div>"
      ],
      "text/plain": [
       "                                   company  count\n",
       "0                               Amazon.com    358\n",
       "1                           Ball Aerospace    187\n",
       "2                                Microsoft    137\n",
       "3                                   Google    134\n",
       "4                       NYU Langone Health     77\n",
       "5   Fred Hutchinson Cancer Research Center     70\n",
       "6                                     KPMG     66\n",
       "7                                   Lab126     50\n",
       "8                          Broad Institute     49\n",
       "9                                 Facebook     49\n",
       "10                       Walmart eCommerce     45\n",
       "11                      McKinsey & Company     41\n",
       "12                University of Washington     39\n",
       "13                                 Harnham     39\n",
       "14                   Takeda Pharmaceutical     39\n",
       "15                     Celgene Corporation     34\n",
       "16                                Oath Inc     34\n",
       "17        Pharmacyclics, an Abbvie Company     34\n",
       "18                                   Cymer     32\n",
       "19         Brigham & Women's Hospital(BWH)     31\n",
       "20                                  Biogen     30\n",
       "21                                  Sanofi     28\n",
       "22                                   Amgen     28\n",
       "23                                  Jacobs     27\n",
       "24                         JP Morgan Chase     27\n",
       "25                                Illumina     27\n",
       "26                            Zillow Group     26\n",
       "27                                  JD.com     26\n",
       "28                               JUUL Labs     26\n",
       "29                              CDK Global     24\n",
       "30                            Cedars-Sinai     24\n",
       "31                                    Uber     23\n",
       "32           University of Texas at Austin     23\n",
       "33                 The Climate Corporation     23\n",
       "34                               Accenture     22\n",
       "35     Massachusetts General Hospital(MGH)     22\n",
       "36                               Genentech     22\n",
       "37                         Civis Analytics     22\n",
       "38                                 Wayfair     22\n",
       "39                                  Tempus     22\n",
       "40                       Burns & McDonnell     22\n",
       "41                                   NOKIA     22\n",
       "42                  Vertex Pharmaceuticals     22\n",
       "43                                  Vertex     21\n",
       "44                      Harvard University     21\n",
       "45                                Autodesk     20\n",
       "46                                 Nielsen     20\n",
       "47                                     ICF     20\n",
       "48           DEPT OF HEALTH/MENTAL HYGIENE     20\n",
       "49                      Jobspring Partners     19"
      ]
     },
     "execution_count": 80,
     "metadata": {},
     "output_type": "execute_result"
    }
   ],
   "source": [
    "pd.read_excel('Companies.xlsx')"
   ]
  },
  {
   "cell_type": "code",
   "execution_count": null,
   "metadata": {},
   "outputs": [],
   "source": []
  },
  {
   "cell_type": "markdown",
   "metadata": {},
   "source": [
    "### Roles\n",
    "\n",
    "As was the case with companies, a stat of the roles advertised can also be carried out. The roles come in quite some variance, that would differ from month to month."
   ]
  },
  {
   "cell_type": "code",
   "execution_count": 81,
   "metadata": {
    "scrolled": false
   },
   "outputs": [
    {
     "data": {
      "text/plain": [
       "Data Scientist                         351\n",
       "Senior Data Scientist                   96\n",
       "Research Analyst                        64\n",
       "Data Engineer                           60\n",
       "Machine Learning Engineer               56\n",
       "Lead Data Scientist                     31\n",
       "Research Scientist                      30\n",
       "Sr. Data Scientist                      28\n",
       "Principal Data Scientist                24\n",
       "Software Engineer                       22\n",
       "Data Analyst                            22\n",
       "Quantitative Analyst                    21\n",
       "Product Manager                         17\n",
       "Scientist                               17\n",
       "Bioinformatics Scientist                16\n",
       "Market Research Analyst                 15\n",
       "Senior Software Engineer                14\n",
       "Machine Learning Scientist              13\n",
       "Software Engineer, Machine Learning     13\n",
       "Senior Research Analyst                 12\n",
       "Name: position, dtype: int64"
      ]
     },
     "execution_count": 81,
     "metadata": {},
     "output_type": "execute_result"
    }
   ],
   "source": [
    "df['position'].value_counts().head(20)"
   ]
  },
  {
   "cell_type": "markdown",
   "metadata": {},
   "source": []
  },
  {
   "cell_type": "code",
   "execution_count": 82,
   "metadata": {},
   "outputs": [],
   "source": [
    "roles_df = pd.DataFrame(df['position'].value_counts().head(20))"
   ]
  },
  {
   "cell_type": "code",
   "execution_count": 83,
   "metadata": {},
   "outputs": [],
   "source": [
    "roles_df.reset_index(inplace = True)"
   ]
  },
  {
   "cell_type": "code",
   "execution_count": 84,
   "metadata": {
    "scrolled": true
   },
   "outputs": [],
   "source": [
    "roles_df.rename(columns = {'index' : 'position', 'position' : 'count'}, inplace = True)"
   ]
  },
  {
   "cell_type": "code",
   "execution_count": 85,
   "metadata": {
    "scrolled": true
   },
   "outputs": [
    {
     "data": {
      "text/html": [
       "<div>\n",
       "<style scoped>\n",
       "    .dataframe tbody tr th:only-of-type {\n",
       "        vertical-align: middle;\n",
       "    }\n",
       "\n",
       "    .dataframe tbody tr th {\n",
       "        vertical-align: top;\n",
       "    }\n",
       "\n",
       "    .dataframe thead th {\n",
       "        text-align: right;\n",
       "    }\n",
       "</style>\n",
       "<table border=\"1\" class=\"dataframe\">\n",
       "  <thead>\n",
       "    <tr style=\"text-align: right;\">\n",
       "      <th></th>\n",
       "      <th>position</th>\n",
       "      <th>count</th>\n",
       "    </tr>\n",
       "  </thead>\n",
       "  <tbody>\n",
       "    <tr>\n",
       "      <th>0</th>\n",
       "      <td>Data Scientist</td>\n",
       "      <td>351</td>\n",
       "    </tr>\n",
       "    <tr>\n",
       "      <th>1</th>\n",
       "      <td>Senior Data Scientist</td>\n",
       "      <td>96</td>\n",
       "    </tr>\n",
       "    <tr>\n",
       "      <th>2</th>\n",
       "      <td>Research Analyst</td>\n",
       "      <td>64</td>\n",
       "    </tr>\n",
       "    <tr>\n",
       "      <th>3</th>\n",
       "      <td>Data Engineer</td>\n",
       "      <td>60</td>\n",
       "    </tr>\n",
       "    <tr>\n",
       "      <th>4</th>\n",
       "      <td>Machine Learning Engineer</td>\n",
       "      <td>56</td>\n",
       "    </tr>\n",
       "  </tbody>\n",
       "</table>\n",
       "</div>"
      ],
      "text/plain": [
       "                    position  count\n",
       "0             Data Scientist    351\n",
       "1      Senior Data Scientist     96\n",
       "2           Research Analyst     64\n",
       "3              Data Engineer     60\n",
       "4  Machine Learning Engineer     56"
      ]
     },
     "execution_count": 85,
     "metadata": {},
     "output_type": "execute_result"
    }
   ],
   "source": [
    "roles_df.head()"
   ]
  },
  {
   "cell_type": "code",
   "execution_count": 86,
   "metadata": {
    "scrolled": true
   },
   "outputs": [
    {
     "data": {
      "text/plain": [
       "<matplotlib.axes._subplots.AxesSubplot at 0x1a1ceb4550>"
      ]
     },
     "execution_count": 86,
     "metadata": {},
     "output_type": "execute_result"
    },
    {
     "data": {
      "image/png": "[encoded data removed]",
      "text/plain": [
       "<Figure size 432x288 with 1 Axes>"
      ]
     },
     "metadata": {
      "needs_background": "light"
     },
     "output_type": "display_data"
    }
   ],
   "source": [
    "sns.barplot(y = roles_df['position'].head(15), x = roles_df['count'].head(15))"
   ]
  },
  {
   "cell_type": "code",
   "execution_count": 87,
   "metadata": {},
   "outputs": [],
   "source": [
    "#roles_df.to_csv('Roles.csv', sep = ',', header = ['position', 'count'])"
   ]
  },
  {
   "cell_type": "code",
   "execution_count": 88,
   "metadata": {},
   "outputs": [],
   "source": [
    "#roles_df.to_csv('Roles.csv', sep = ',')"
   ]
  },
  {
   "cell_type": "code",
   "execution_count": 89,
   "metadata": {
    "scrolled": true
   },
   "outputs": [],
   "source": [
    "#pd.read_csv('Roles.csv')"
   ]
  },
  {
   "cell_type": "code",
   "execution_count": 90,
   "metadata": {},
   "outputs": [],
   "source": [
    "writer = pd.ExcelWriter('Roles.xlsx')\n",
    "roles_df.to_excel(writer,'Sheet1')\n",
    "writer.save()"
   ]
  },
  {
   "cell_type": "code",
   "execution_count": 91,
   "metadata": {
    "scrolled": true
   },
   "outputs": [
    {
     "data": {
      "text/html": [
       "<div>\n",
       "<style scoped>\n",
       "    .dataframe tbody tr th:only-of-type {\n",
       "        vertical-align: middle;\n",
       "    }\n",
       "\n",
       "    .dataframe tbody tr th {\n",
       "        vertical-align: top;\n",
       "    }\n",
       "\n",
       "    .dataframe thead th {\n",
       "        text-align: right;\n",
       "    }\n",
       "</style>\n",
       "<table border=\"1\" class=\"dataframe\">\n",
       "  <thead>\n",
       "    <tr style=\"text-align: right;\">\n",
       "      <th></th>\n",
       "      <th>position</th>\n",
       "      <th>count</th>\n",
       "    </tr>\n",
       "  </thead>\n",
       "  <tbody>\n",
       "    <tr>\n",
       "      <th>0</th>\n",
       "      <td>Data Scientist</td>\n",
       "      <td>351</td>\n",
       "    </tr>\n",
       "    <tr>\n",
       "      <th>1</th>\n",
       "      <td>Senior Data Scientist</td>\n",
       "      <td>96</td>\n",
       "    </tr>\n",
       "    <tr>\n",
       "      <th>2</th>\n",
       "      <td>Research Analyst</td>\n",
       "      <td>64</td>\n",
       "    </tr>\n",
       "    <tr>\n",
       "      <th>3</th>\n",
       "      <td>Data Engineer</td>\n",
       "      <td>60</td>\n",
       "    </tr>\n",
       "    <tr>\n",
       "      <th>4</th>\n",
       "      <td>Machine Learning Engineer</td>\n",
       "      <td>56</td>\n",
       "    </tr>\n",
       "    <tr>\n",
       "      <th>5</th>\n",
       "      <td>Lead Data Scientist</td>\n",
       "      <td>31</td>\n",
       "    </tr>\n",
       "    <tr>\n",
       "      <th>6</th>\n",
       "      <td>Research Scientist</td>\n",
       "      <td>30</td>\n",
       "    </tr>\n",
       "    <tr>\n",
       "      <th>7</th>\n",
       "      <td>Sr. Data Scientist</td>\n",
       "      <td>28</td>\n",
       "    </tr>\n",
       "    <tr>\n",
       "      <th>8</th>\n",
       "      <td>Principal Data Scientist</td>\n",
       "      <td>24</td>\n",
       "    </tr>\n",
       "    <tr>\n",
       "      <th>9</th>\n",
       "      <td>Software Engineer</td>\n",
       "      <td>22</td>\n",
       "    </tr>\n",
       "    <tr>\n",
       "      <th>10</th>\n",
       "      <td>Data Analyst</td>\n",
       "      <td>22</td>\n",
       "    </tr>\n",
       "    <tr>\n",
       "      <th>11</th>\n",
       "      <td>Quantitative Analyst</td>\n",
       "      <td>21</td>\n",
       "    </tr>\n",
       "    <tr>\n",
       "      <th>12</th>\n",
       "      <td>Product Manager</td>\n",
       "      <td>17</td>\n",
       "    </tr>\n",
       "    <tr>\n",
       "      <th>13</th>\n",
       "      <td>Scientist</td>\n",
       "      <td>17</td>\n",
       "    </tr>\n",
       "    <tr>\n",
       "      <th>14</th>\n",
       "      <td>Bioinformatics Scientist</td>\n",
       "      <td>16</td>\n",
       "    </tr>\n",
       "    <tr>\n",
       "      <th>15</th>\n",
       "      <td>Market Research Analyst</td>\n",
       "      <td>15</td>\n",
       "    </tr>\n",
       "    <tr>\n",
       "      <th>16</th>\n",
       "      <td>Senior Software Engineer</td>\n",
       "      <td>14</td>\n",
       "    </tr>\n",
       "    <tr>\n",
       "      <th>17</th>\n",
       "      <td>Machine Learning Scientist</td>\n",
       "      <td>13</td>\n",
       "    </tr>\n",
       "    <tr>\n",
       "      <th>18</th>\n",
       "      <td>Software Engineer, Machine Learning</td>\n",
       "      <td>13</td>\n",
       "    </tr>\n",
       "    <tr>\n",
       "      <th>19</th>\n",
       "      <td>Senior Research Analyst</td>\n",
       "      <td>12</td>\n",
       "    </tr>\n",
       "  </tbody>\n",
       "</table>\n",
       "</div>"
      ],
      "text/plain": [
       "                               position  count\n",
       "0                        Data Scientist    351\n",
       "1                 Senior Data Scientist     96\n",
       "2                      Research Analyst     64\n",
       "3                         Data Engineer     60\n",
       "4             Machine Learning Engineer     56\n",
       "5                   Lead Data Scientist     31\n",
       "6                    Research Scientist     30\n",
       "7                    Sr. Data Scientist     28\n",
       "8              Principal Data Scientist     24\n",
       "9                     Software Engineer     22\n",
       "10                         Data Analyst     22\n",
       "11                 Quantitative Analyst     21\n",
       "12                      Product Manager     17\n",
       "13                            Scientist     17\n",
       "14             Bioinformatics Scientist     16\n",
       "15              Market Research Analyst     15\n",
       "16             Senior Software Engineer     14\n",
       "17           Machine Learning Scientist     13\n",
       "18  Software Engineer, Machine Learning     13\n",
       "19              Senior Research Analyst     12"
      ]
     },
     "execution_count": 91,
     "metadata": {},
     "output_type": "execute_result"
    }
   ],
   "source": [
    "pd.read_excel('Roles.xlsx')"
   ]
  },
  {
   "cell_type": "code",
   "execution_count": null,
   "metadata": {},
   "outputs": [],
   "source": []
  },
  {
   "cell_type": "markdown",
   "metadata": {},
   "source": [
    "### Skills\n",
    "\n",
    "Relevant skills to the roles will include Python, R, SQL, Hadoop, and so on. It's quite not a direct process picking out these skills from each entry in the description column as the scrapped data in the description aren't properly formatted as strings. "
   ]
  },
  {
   "cell_type": "code",
   "execution_count": 92,
   "metadata": {},
   "outputs": [
    {
     "data": {
      "text/html": [
       "<div>\n",
       "<style scoped>\n",
       "    .dataframe tbody tr th:only-of-type {\n",
       "        vertical-align: middle;\n",
       "    }\n",
       "\n",
       "    .dataframe tbody tr th {\n",
       "        vertical-align: top;\n",
       "    }\n",
       "\n",
       "    .dataframe thead th {\n",
       "        text-align: right;\n",
       "    }\n",
       "</style>\n",
       "<table border=\"1\" class=\"dataframe\">\n",
       "  <thead>\n",
       "    <tr style=\"text-align: right;\">\n",
       "      <th></th>\n",
       "      <th>description</th>\n",
       "    </tr>\n",
       "  </thead>\n",
       "  <tbody>\n",
       "    <tr>\n",
       "      <th>0</th>\n",
       "      <td>Development Director\\nALS Therapy Development ...</td>\n",
       "    </tr>\n",
       "    <tr>\n",
       "      <th>1</th>\n",
       "      <td>Job Description\\n\\n\"The road that leads to acc...</td>\n",
       "    </tr>\n",
       "    <tr>\n",
       "      <th>2</th>\n",
       "      <td>Growing company located in the Atlanta, GA are...</td>\n",
       "    </tr>\n",
       "    <tr>\n",
       "      <th>3</th>\n",
       "      <td>DEPARTMENT: Program OperationsPOSITION LOCATIO...</td>\n",
       "    </tr>\n",
       "    <tr>\n",
       "      <th>4</th>\n",
       "      <td>DESCRIPTION\\nThe Emory University Department o...</td>\n",
       "    </tr>\n",
       "  </tbody>\n",
       "</table>\n",
       "</div>"
      ],
      "text/plain": [
       "                                         description\n",
       "0  Development Director\\nALS Therapy Development ...\n",
       "1  Job Description\\n\\n\"The road that leads to acc...\n",
       "2  Growing company located in the Atlanta, GA are...\n",
       "3  DEPARTMENT: Program OperationsPOSITION LOCATIO...\n",
       "4  DESCRIPTION\\nThe Emory University Department o..."
      ]
     },
     "execution_count": 92,
     "metadata": {},
     "output_type": "execute_result"
    }
   ],
   "source": [
    "df[['description']].head()"
   ]
  },
  {
   "cell_type": "code",
   "execution_count": 93,
   "metadata": {},
   "outputs": [
    {
     "data": {
      "text/plain": [
       "\"Qualifications\\nBachelor’s degree in Computer Science, Information Systems or closely related field\\n10+ years of experience in Data Architecture in a professional services environment is highly preferred\\nExperience overseeing the data stream of multiple projects including client deployments, integration and migration efforts\\nExpertise in handling large amounts of data through such capabilities as SQL Server, Postgres, Exasol, Alteryx and Hadoop ecosystem\\nExperience working in cloud architecture including AWS or Azure environments\\nExceptional analytical and quantitative problem solving skills\\nAdept at communicating and managing key stakeholders and able to drive change in the organization\\nAbility to work collaboratively in a team environment and provide continuous mentoring to junior members of the organization\\nEntrepreneurial spirit with desire to work in fast-paced, start-up environment, with the ability to consistently deliver exceptional results on demanding timelines\\nTravel requirements - 50%-60%\\nWho You'll Work With\\nYou'll be based in New Jersey, Atlanta, Waltham or Chicago and will be a part of the Periscope team. Periscope is part of McKinsey Solutions and of McKinsey’s New Ventures.\\n\\nFounded in 2007, Periscope™ by McKinsey enables better commercial decisions by uncovering actionable insights. The Periscope platform combines world leading intellectual property, prescriptive analytics, and cloud based tools to provide more than 25 solutions focused on insights and marketing, with expert support and training. It is a unique combination that drives revenue growth both now and in the future. Customer experience, performance, pricing, category, and sales optimization are powered by the Periscope platform. Periscope has a presence in 26 locations across 16 countries with a team of 350+ IT and business professionals and a network of 300+ experts. To learn more about how Periscope’s solutions and experts are helping businesses continually drive better performance, visit http://www.periscope-solutions.com/.\\n\\nMcKinsey New Ventures fosters innovation driven by analytics, design thinking, mobile and social by developing new products/services and integrating them into our client work. It is helping to shift our model toward asset-based consulting and is a foundation for –and expands our investment in –our entrepreneurial culture. Through innovative software as a service solutions, strategic acquisitions, and a vibrant ecosystem of alliances, we are redefining what it means to work with McKinsey.\\n\\nAs one of the fastest-growing parts of our firm, New Ventures has more than 1,500 dedicated professionals (including more than 800 analysts and data scientists) and we’re hiring more mathematicians, data scientists, designers, software engineers, product managers, client development managers and general managers.\\nWhat You'll Do\\nYou’ll work closely with Marketing &amp; Sales Ventures client service team and will play a key role in data architecture and delivery.\\n\\nYou'll lead a team of Data Engineers to determine database structural requirements by analyzing client operations, applications, and programming; reviewing objectives with clients and evaluating current systems. You’ll develop database solutions by designing proposed system; defining database physical structure and functional capabilities, security, back-up, and recovery specifications. You will install database systems by developing flowcharts; applying optimum access techniques; coordinating installation and documents actions.\\n\\nAdditionally, you’ll maintain database performance by identifying and resolving production and application development problems; calculating optimum values for parameters; evaluating, integrating, and installing new releases; completing maintenance and answering questions. You will provide database support by coding utilities, responding to user questions, and resolving problems.\""
      ]
     },
     "execution_count": 93,
     "metadata": {},
     "output_type": "execute_result"
    }
   ],
   "source": [
    "df['description'][5]"
   ]
  },
  {
   "cell_type": "markdown",
   "metadata": {},
   "source": [
    "With a single description looking like this, it will be tasking to go through over 6000 rows searching for skills. "
   ]
  },
  {
   "cell_type": "code",
   "execution_count": 94,
   "metadata": {},
   "outputs": [
    {
     "data": {
      "text/plain": [
       "str"
      ]
     },
     "execution_count": 94,
     "metadata": {},
     "output_type": "execute_result"
    }
   ],
   "source": [
    "type(df['description'][5])"
   ]
  },
  {
   "cell_type": "code",
   "execution_count": 95,
   "metadata": {},
   "outputs": [
    {
     "data": {
      "text/plain": [
       "['Qualifications',\n",
       " 'Bachelor’s degree in Computer Science, Information Systems or closely related field',\n",
       " '10+ years of experience in Data Architecture in a professional services environment is highly preferred',\n",
       " 'Experience overseeing the data stream of multiple projects including client deployments, integration and migration efforts',\n",
       " 'Expertise in handling large amounts of data through such capabilities as SQL Server, Postgres, Exasol, Alteryx and Hadoop ecosystem',\n",
       " 'Experience working in cloud architecture including AWS or Azure environments',\n",
       " 'Exceptional analytical and quantitative problem solving skills',\n",
       " 'Adept at communicating and managing key stakeholders and able to drive change in the organization',\n",
       " 'Ability to work collaboratively in a team environment and provide continuous mentoring to junior members of the organization',\n",
       " 'Entrepreneurial spirit with desire to work in fast-paced, start-up environment, with the ability to consistently deliver exceptional results on demanding timelines',\n",
       " 'Travel requirements - 50%-60%',\n",
       " \"Who You'll Work With\",\n",
       " \"You'll be based in New Jersey, Atlanta, Waltham or Chicago and will be a part of the Periscope team. Periscope is part of McKinsey Solutions and of McKinsey’s New Ventures.\",\n",
       " '',\n",
       " 'Founded in 2007, Periscope™ by McKinsey enables better commercial decisions by uncovering actionable insights. The Periscope platform combines world leading intellectual property, prescriptive analytics, and cloud based tools to provide more than 25 solutions focused on insights and marketing, with expert support and training. It is a unique combination that drives revenue growth both now and in the future. Customer experience, performance, pricing, category, and sales optimization are powered by the Periscope platform. Periscope has a presence in 26 locations across 16 countries with a team of 350+ IT and business professionals and a network of 300+ experts. To learn more about how Periscope’s solutions and experts are helping businesses continually drive better performance, visit http://www.periscope-solutions.com/.',\n",
       " '',\n",
       " 'McKinsey New Ventures fosters innovation driven by analytics, design thinking, mobile and social by developing new products/services and integrating them into our client work. It is helping to shift our model toward asset-based consulting and is a foundation for –and expands our investment in –our entrepreneurial culture. Through innovative software as a service solutions, strategic acquisitions, and a vibrant ecosystem of alliances, we are redefining what it means to work with McKinsey.',\n",
       " '',\n",
       " 'As one of the fastest-growing parts of our firm, New Ventures has more than 1,500 dedicated professionals (including more than 800 analysts and data scientists) and we’re hiring more mathematicians, data scientists, designers, software engineers, product managers, client development managers and general managers.',\n",
       " \"What You'll Do\",\n",
       " 'You’ll work closely with Marketing &amp; Sales Ventures client service team and will play a key role in data architecture and delivery.',\n",
       " '',\n",
       " \"You'll lead a team of Data Engineers to determine database structural requirements by analyzing client operations, applications, and programming; reviewing objectives with clients and evaluating current systems. You’ll develop database solutions by designing proposed system; defining database physical structure and functional capabilities, security, back-up, and recovery specifications. You will install database systems by developing flowcharts; applying optimum access techniques; coordinating installation and documents actions.\",\n",
       " '',\n",
       " 'Additionally, you’ll maintain database performance by identifying and resolving production and application development problems; calculating optimum values for parameters; evaluating, integrating, and installing new releases; completing maintenance and answering questions. You will provide database support by coding utilities, responding to user questions, and resolving problems.']"
      ]
     },
     "execution_count": 95,
     "metadata": {},
     "output_type": "execute_result"
    }
   ],
   "source": [
    "df['description'][5].splitlines()"
   ]
  },
  {
   "cell_type": "code",
   "execution_count": 96,
   "metadata": {},
   "outputs": [
    {
     "data": {
      "text/plain": [
       "list"
      ]
     },
     "execution_count": 96,
     "metadata": {},
     "output_type": "execute_result"
    }
   ],
   "source": [
    "type(df['description'][5].splitlines())"
   ]
  },
  {
   "cell_type": "code",
   "execution_count": 97,
   "metadata": {
    "scrolled": true
   },
   "outputs": [
    {
     "data": {
      "text/plain": [
       "'Additionally, you’ll maintain database performance by identifying and resolving production and application development problems; calculating optimum values for parameters; evaluating, integrating, and installing new releases; completing maintenance and answering questions. You will provide database support by coding utilities, responding to user questions, and resolving problems.'"
      ]
     },
     "execution_count": 97,
     "metadata": {},
     "output_type": "execute_result"
    }
   ],
   "source": [
    "df['description'][5].splitlines()[-1]"
   ]
  },
  {
   "cell_type": "markdown",
   "metadata": {},
   "source": [
    "___"
   ]
  },
  {
   "cell_type": "markdown",
   "metadata": {},
   "source": [
    "#### Skill Count"
   ]
  },
  {
   "cell_type": "markdown",
   "metadata": {},
   "source": [
    "A simple hack is to find out how many times a particular skill appears in the data. One way to do this is to conduct some sort of search. Approaches abound to doing this, but the ``.str.contains()`` is quite easy to come by. A first step willbe by setting the keyword to **python**."
   ]
  },
  {
   "cell_type": "code",
   "execution_count": 98,
   "metadata": {
    "scrolled": true
   },
   "outputs": [
    {
     "data": {
      "text/html": [
       "<div>\n",
       "<style scoped>\n",
       "    .dataframe tbody tr th:only-of-type {\n",
       "        vertical-align: middle;\n",
       "    }\n",
       "\n",
       "    .dataframe tbody tr th {\n",
       "        vertical-align: top;\n",
       "    }\n",
       "\n",
       "    .dataframe thead th {\n",
       "        text-align: right;\n",
       "    }\n",
       "</style>\n",
       "<table border=\"1\" class=\"dataframe\">\n",
       "  <thead>\n",
       "    <tr style=\"text-align: right;\">\n",
       "      <th></th>\n",
       "      <th>position</th>\n",
       "      <th>company</th>\n",
       "      <th>description</th>\n",
       "      <th>location</th>\n",
       "    </tr>\n",
       "  </thead>\n",
       "  <tbody>\n",
       "    <tr>\n",
       "      <th>2</th>\n",
       "      <td>Data Scientist</td>\n",
       "      <td>Xpert Staffing</td>\n",
       "      <td>Growing company located in the Atlanta, GA are...</td>\n",
       "      <td>Atlanta, GA</td>\n",
       "    </tr>\n",
       "    <tr>\n",
       "      <th>3</th>\n",
       "      <td>Data Analyst</td>\n",
       "      <td>Operation HOPE</td>\n",
       "      <td>DEPARTMENT: Program OperationsPOSITION LOCATIO...</td>\n",
       "      <td>Atlanta, GA 30303</td>\n",
       "    </tr>\n",
       "    <tr>\n",
       "      <th>14</th>\n",
       "      <td>Business Intelligence Data Science Analyst - S...</td>\n",
       "      <td>Newell Brands</td>\n",
       "      <td>Data Science Analyst– Business Intelligence\\nL...</td>\n",
       "      <td>Atlanta, GA</td>\n",
       "    </tr>\n",
       "    <tr>\n",
       "      <th>15</th>\n",
       "      <td>Data Scientist</td>\n",
       "      <td>Cotiviti</td>\n",
       "      <td>Cotiviti is looking for an industry leading Da...</td>\n",
       "      <td>Atlanta, GA</td>\n",
       "    </tr>\n",
       "    <tr>\n",
       "      <th>18</th>\n",
       "      <td>Data Scientist</td>\n",
       "      <td>Relus Cloud</td>\n",
       "      <td>DATA SCIENTIST\\n\\nSUMMARY:\\nAs an Amazon Web S...</td>\n",
       "      <td>Atlanta, GA</td>\n",
       "    </tr>\n",
       "    <tr>\n",
       "      <th>19</th>\n",
       "      <td>Data Scientist</td>\n",
       "      <td>Inspire Brands</td>\n",
       "      <td>This position is critical to understanding dri...</td>\n",
       "      <td>Atlanta, GA</td>\n",
       "    </tr>\n",
       "    <tr>\n",
       "      <th>21</th>\n",
       "      <td>Sr. Manager, Full Stack Development, KPMG Tax ...</td>\n",
       "      <td>KPMG</td>\n",
       "      <td>Known for being a great place to work and buil...</td>\n",
       "      <td>Atlanta, GA 30338</td>\n",
       "    </tr>\n",
       "    <tr>\n",
       "      <th>22</th>\n",
       "      <td>Data Scientist</td>\n",
       "      <td>Norfolk Southern Corp</td>\n",
       "      <td>Join a growing Data Science and Advanced Analy...</td>\n",
       "      <td>Atlanta, GA 30309</td>\n",
       "    </tr>\n",
       "    <tr>\n",
       "      <th>23</th>\n",
       "      <td>DATA SCIENTIST - Supply Chain</td>\n",
       "      <td>The Home Depot</td>\n",
       "      <td>POSITION PURPOSE:\\nA Data Scientist leverages ...</td>\n",
       "      <td>Atlanta, GA</td>\n",
       "    </tr>\n",
       "    <tr>\n",
       "      <th>24</th>\n",
       "      <td>Data Scientist, Keying &amp; Linking</td>\n",
       "      <td>Equifax</td>\n",
       "      <td>Job Number: 16614\\nPosition Title:\\nExternal D...</td>\n",
       "      <td>Atlanta, GA</td>\n",
       "    </tr>\n",
       "    <tr>\n",
       "      <th>25</th>\n",
       "      <td>Data Scientist</td>\n",
       "      <td>AirSage</td>\n",
       "      <td>AirSage has been in the business of providing ...</td>\n",
       "      <td>Atlanta, GA</td>\n",
       "    </tr>\n",
       "    <tr>\n",
       "      <th>26</th>\n",
       "      <td>Data Scientist 1 – AP Forensics Team</td>\n",
       "      <td>The Home Depot</td>\n",
       "      <td>POSITION PURPOSE:\\nThe Data Scientist I will p...</td>\n",
       "      <td>Atlanta, GA</td>\n",
       "    </tr>\n",
       "    <tr>\n",
       "      <th>27</th>\n",
       "      <td>Data Scientist - ICL</td>\n",
       "      <td>Georgia Tech Research Institute</td>\n",
       "      <td>Full-time, permanent position available starti...</td>\n",
       "      <td>Atlanta, GA 30318</td>\n",
       "    </tr>\n",
       "    <tr>\n",
       "      <th>29</th>\n",
       "      <td>Data Scientist - CONSULTANT Level - ORLANDO FL...</td>\n",
       "      <td>Capgemini</td>\n",
       "      <td>Overview:\\nConsultant\\n\\nThe Data Science &amp;amp...</td>\n",
       "      <td>Atlanta, GA</td>\n",
       "    </tr>\n",
       "    <tr>\n",
       "      <th>30</th>\n",
       "      <td>Senior Data Scientist</td>\n",
       "      <td>Catalina Marketing</td>\n",
       "      <td>Sr. Data Scientist\\n\\nWHY CATALINA\\n\\nCatalina...</td>\n",
       "      <td>Atlanta, GA</td>\n",
       "    </tr>\n",
       "    <tr>\n",
       "      <th>31</th>\n",
       "      <td>Business Intelligence Data Scientist - Supply ...</td>\n",
       "      <td>Newell Brands</td>\n",
       "      <td>Data Scientist – Business Intelligence\\nLocati...</td>\n",
       "      <td>Atlanta, GA</td>\n",
       "    </tr>\n",
       "    <tr>\n",
       "      <th>34</th>\n",
       "      <td>Data Scientist</td>\n",
       "      <td>SalesLoft</td>\n",
       "      <td>We are looking for a Data Scientist who is pas...</td>\n",
       "      <td>Atlanta, GA</td>\n",
       "    </tr>\n",
       "    <tr>\n",
       "      <th>36</th>\n",
       "      <td>Data Scientist</td>\n",
       "      <td>The Intersect Group</td>\n",
       "      <td>Responsibilities:Help to drive the analytical ...</td>\n",
       "      <td>Atlanta, GA 30328</td>\n",
       "    </tr>\n",
       "    <tr>\n",
       "      <th>39</th>\n",
       "      <td>DATA SCIENTIST - SPACE OPTIMIZATION</td>\n",
       "      <td>The Home Depot</td>\n",
       "      <td>POSITION PURPOSE\\nThe Data Scientist Space Opt...</td>\n",
       "      <td>Atlanta, GA</td>\n",
       "    </tr>\n",
       "    <tr>\n",
       "      <th>41</th>\n",
       "      <td>Senior Data Scientist</td>\n",
       "      <td>Cotiviti</td>\n",
       "      <td>Cotiviti is looking for an industry leading Da...</td>\n",
       "      <td>Atlanta, GA</td>\n",
       "    </tr>\n",
       "    <tr>\n",
       "      <th>42</th>\n",
       "      <td>Manager - Data Scientist ! Orlando!</td>\n",
       "      <td>Capgemini</td>\n",
       "      <td>Manager – Orlando location\\n\\nOverview:\\nThe D...</td>\n",
       "      <td>Atlanta, GA</td>\n",
       "    </tr>\n",
       "    <tr>\n",
       "      <th>44</th>\n",
       "      <td>Lead Data Scientist</td>\n",
       "      <td>Norfolk Southern Corp</td>\n",
       "      <td>Join a growing Data Science and Advanced Analy...</td>\n",
       "      <td>Atlanta, GA 30309</td>\n",
       "    </tr>\n",
       "    <tr>\n",
       "      <th>45</th>\n",
       "      <td>Senior Data Scientist</td>\n",
       "      <td>Norfolk Southern Corp</td>\n",
       "      <td>Join a growing Data Science and Advanced Analy...</td>\n",
       "      <td>Atlanta, GA 30309</td>\n",
       "    </tr>\n",
       "    <tr>\n",
       "      <th>46</th>\n",
       "      <td>Data Scientist - Consultant Level - Orlando, F...</td>\n",
       "      <td>Capgemini</td>\n",
       "      <td>Consultant - Orlando, Florida\\n\\nThe Data Scie...</td>\n",
       "      <td>Atlanta, GA</td>\n",
       "    </tr>\n",
       "    <tr>\n",
       "      <th>47</th>\n",
       "      <td>Flight Safety Data Analysis Fall Co-Op</td>\n",
       "      <td>Delta Air Lines</td>\n",
       "      <td>Responsibilities include duties to support Fli...</td>\n",
       "      <td>Atlanta, GA</td>\n",
       "    </tr>\n",
       "    <tr>\n",
       "      <th>48</th>\n",
       "      <td>Chief Deep Learning Scientist</td>\n",
       "      <td>YIWEI Medical Inc.</td>\n",
       "      <td>We are looking for talented, driven and autono...</td>\n",
       "      <td>Atlanta, GA</td>\n",
       "    </tr>\n",
       "    <tr>\n",
       "      <th>51</th>\n",
       "      <td>Director, Data Scientist</td>\n",
       "      <td>KPMG</td>\n",
       "      <td>Innovate. Collaborate. Shine. Lighthouse — KPM...</td>\n",
       "      <td>Atlanta, GA 30338</td>\n",
       "    </tr>\n",
       "    <tr>\n",
       "      <th>54</th>\n",
       "      <td>VP, Data Analytics</td>\n",
       "      <td>TCGplayer</td>\n",
       "      <td>********************\\nVP of Data Analytics\\n**...</td>\n",
       "      <td>Atlanta, GA</td>\n",
       "    </tr>\n",
       "    <tr>\n",
       "      <th>55</th>\n",
       "      <td>Lead Decision Scientist</td>\n",
       "      <td>Moxie Interactive, Inc.</td>\n",
       "      <td>Leading the use of modeling, algorithms, and c...</td>\n",
       "      <td>Atlanta, GA 30313</td>\n",
       "    </tr>\n",
       "    <tr>\n",
       "      <th>57</th>\n",
       "      <td>Data Scientist or Data Scientist Lead PS10268</td>\n",
       "      <td>Anthem, Inc.</td>\n",
       "      <td>Your Talent. Our Vision. At Anthem, Inc., it’s...</td>\n",
       "      <td>Atlanta, GA 30301</td>\n",
       "    </tr>\n",
       "    <tr>\n",
       "      <th>...</th>\n",
       "      <td>...</td>\n",
       "      <td>...</td>\n",
       "      <td>...</td>\n",
       "      <td>...</td>\n",
       "    </tr>\n",
       "    <tr>\n",
       "      <th>6917</th>\n",
       "      <td>Security Scientist</td>\n",
       "      <td>Baidu USA</td>\n",
       "      <td>Baidu USA, headquartered in Silicon Valley, is...</td>\n",
       "      <td>Sunnyvale, CA 94089</td>\n",
       "    </tr>\n",
       "    <tr>\n",
       "      <th>6918</th>\n",
       "      <td>Sr Data Scientist</td>\n",
       "      <td>Oath Inc</td>\n",
       "      <td>Oath, a subsidiary of Verizon, is a values-led...</td>\n",
       "      <td>Sunnyvale, CA</td>\n",
       "    </tr>\n",
       "    <tr>\n",
       "      <th>6922</th>\n",
       "      <td>Data Scientist- Growth Analytics</td>\n",
       "      <td>Oath Inc</td>\n",
       "      <td>Oath, a subsidiary of Verizon, is a values-led...</td>\n",
       "      <td>Sunnyvale, CA</td>\n",
       "    </tr>\n",
       "    <tr>\n",
       "      <th>6923</th>\n",
       "      <td>Senior Data Scientist</td>\n",
       "      <td>Castlight Health</td>\n",
       "      <td>We’re hiring data scientists for a team of dat...</td>\n",
       "      <td>Sunnyvale, CA 94086</td>\n",
       "    </tr>\n",
       "    <tr>\n",
       "      <th>6924</th>\n",
       "      <td>Data Scientist</td>\n",
       "      <td>Proofpoint</td>\n",
       "      <td>Company Overview\\nAt Proofpoint, we have a pas...</td>\n",
       "      <td>Sunnyvale, CA 94089</td>\n",
       "    </tr>\n",
       "    <tr>\n",
       "      <th>6926</th>\n",
       "      <td>Lead Data Scientist - Machine Learning</td>\n",
       "      <td>TARGET</td>\n",
       "      <td>Description:\\nJoin the Target.com interactive ...</td>\n",
       "      <td>Sunnyvale, CA</td>\n",
       "    </tr>\n",
       "    <tr>\n",
       "      <th>6927</th>\n",
       "      <td>Staff Data Scientist - Tech CA (TECH12458)</td>\n",
       "      <td>Walmart eCommerce</td>\n",
       "      <td>Position Description\\nThe @WalmartLabs Persona...</td>\n",
       "      <td>Sunnyvale, CA</td>\n",
       "    </tr>\n",
       "    <tr>\n",
       "      <th>6928</th>\n",
       "      <td>Machine Learning Scientist</td>\n",
       "      <td>Amazon.com</td>\n",
       "      <td>Job Description\\n\\nAmazon is looking for a pas...</td>\n",
       "      <td>Sunnyvale, CA</td>\n",
       "    </tr>\n",
       "    <tr>\n",
       "      <th>6929</th>\n",
       "      <td>Data Scientist, Path Forward Returnship</td>\n",
       "      <td>Walmart eCommerce</td>\n",
       "      <td>Position Description\\nAt Walmart Labs we’re re...</td>\n",
       "      <td>Sunnyvale, CA</td>\n",
       "    </tr>\n",
       "    <tr>\n",
       "      <th>6930</th>\n",
       "      <td>Data Scientist</td>\n",
       "      <td>Linc Global, Inc.</td>\n",
       "      <td>Why you should join:\\n\\nJoin us in building th...</td>\n",
       "      <td>Sunnyvale, CA</td>\n",
       "    </tr>\n",
       "    <tr>\n",
       "      <th>6931</th>\n",
       "      <td>Data Scientist - Alexa Language Technologies</td>\n",
       "      <td>Lab126</td>\n",
       "      <td>Job Description\\nAmazon Lab126 is an inventive...</td>\n",
       "      <td>Sunnyvale, CA</td>\n",
       "    </tr>\n",
       "    <tr>\n",
       "      <th>6932</th>\n",
       "      <td>Data Scientist</td>\n",
       "      <td>Oath Inc</td>\n",
       "      <td>Oath, a subsidiary of Verizon, is a values-led...</td>\n",
       "      <td>Sunnyvale, CA</td>\n",
       "    </tr>\n",
       "    <tr>\n",
       "      <th>6933</th>\n",
       "      <td>Data Scientist</td>\n",
       "      <td>Bosch Group</td>\n",
       "      <td>Job Description\\n\\nPrimary Responsibilities:\\n...</td>\n",
       "      <td>Sunnyvale, CA 94085</td>\n",
       "    </tr>\n",
       "    <tr>\n",
       "      <th>6934</th>\n",
       "      <td>Data Scientist, Cloud Revenue Acceleration, Go...</td>\n",
       "      <td>Google</td>\n",
       "      <td>The Google Cloud Platform team helps customers...</td>\n",
       "      <td>Sunnyvale, CA</td>\n",
       "    </tr>\n",
       "    <tr>\n",
       "      <th>6935</th>\n",
       "      <td>Data &amp; Applied Scientist</td>\n",
       "      <td>Microsoft</td>\n",
       "      <td>Speech team at Microsoft builds the most advan...</td>\n",
       "      <td>Sunnyvale, CA</td>\n",
       "    </tr>\n",
       "    <tr>\n",
       "      <th>6936</th>\n",
       "      <td>Data Scientist - Alexa Language Technologies</td>\n",
       "      <td>Amazon.com</td>\n",
       "      <td>Job Description\\nAmazon Lab126 is an inventive...</td>\n",
       "      <td>Sunnyvale, CA</td>\n",
       "    </tr>\n",
       "    <tr>\n",
       "      <th>6937</th>\n",
       "      <td>Data Scientist / Data Analyst</td>\n",
       "      <td>Arosys</td>\n",
       "      <td>Are you a driven and inquisitive data scientis...</td>\n",
       "      <td>Sunnyvale, CA</td>\n",
       "    </tr>\n",
       "    <tr>\n",
       "      <th>6943</th>\n",
       "      <td>Staff Data Scientist</td>\n",
       "      <td>Walmart eCommerce</td>\n",
       "      <td>Position Description\\nVoice Commerce Data Scie...</td>\n",
       "      <td>Sunnyvale, CA</td>\n",
       "    </tr>\n",
       "    <tr>\n",
       "      <th>6944</th>\n",
       "      <td>Staff Data Scientist, Search/Online Grocery</td>\n",
       "      <td>Walmart eCommerce</td>\n",
       "      <td>Position Description\\nIn this role you will\\nA...</td>\n",
       "      <td>Sunnyvale, CA</td>\n",
       "    </tr>\n",
       "    <tr>\n",
       "      <th>6946</th>\n",
       "      <td>Research Scientist</td>\n",
       "      <td>Amazon.com</td>\n",
       "      <td>Job Description\\nAlexa is the Amazon cloud ser...</td>\n",
       "      <td>Sunnyvale, CA</td>\n",
       "    </tr>\n",
       "    <tr>\n",
       "      <th>6947</th>\n",
       "      <td>Applied Machine Learning Scientist</td>\n",
       "      <td>Amazon.com</td>\n",
       "      <td>Job Description\\nExternal job description\\nAma...</td>\n",
       "      <td>Sunnyvale, CA</td>\n",
       "    </tr>\n",
       "    <tr>\n",
       "      <th>6949</th>\n",
       "      <td>Systems software Performance Data Scientist Su...</td>\n",
       "      <td>Alibaba</td>\n",
       "      <td>We are the System Performance Team of Alibaba ...</td>\n",
       "      <td>Sunnyvale, CA</td>\n",
       "    </tr>\n",
       "    <tr>\n",
       "      <th>6950</th>\n",
       "      <td>Applied Scientist - Alexa Engine</td>\n",
       "      <td>Amazon.com</td>\n",
       "      <td>Job Description\\nInterested in making the ‘Ale...</td>\n",
       "      <td>Sunnyvale, CA</td>\n",
       "    </tr>\n",
       "    <tr>\n",
       "      <th>6952</th>\n",
       "      <td>Image processing Deep learning Research Scientist</td>\n",
       "      <td>Whiterabbit.ai</td>\n",
       "      <td>Whiterabbit.ai is a leading venture-backed sta...</td>\n",
       "      <td>Sunnyvale, CA 94085</td>\n",
       "    </tr>\n",
       "    <tr>\n",
       "      <th>6953</th>\n",
       "      <td>Machine Learning Scientist, Amazon Alexa</td>\n",
       "      <td>Amazon.com</td>\n",
       "      <td>Job Description\\nAmazon is looking for a passi...</td>\n",
       "      <td>Sunnyvale, CA</td>\n",
       "    </tr>\n",
       "    <tr>\n",
       "      <th>6955</th>\n",
       "      <td>Data Engineer</td>\n",
       "      <td>Amazon.com</td>\n",
       "      <td>Job Description\\nToday, people spend too much ...</td>\n",
       "      <td>Sunnyvale, CA</td>\n",
       "    </tr>\n",
       "    <tr>\n",
       "      <th>6958</th>\n",
       "      <td>Senior Data Scientist (GEC11902)</td>\n",
       "      <td>Walmart</td>\n",
       "      <td>Position Description\\nProficient in Java or Py...</td>\n",
       "      <td>Sunnyvale, CA 94086</td>\n",
       "    </tr>\n",
       "    <tr>\n",
       "      <th>6959</th>\n",
       "      <td>Data Developer / Machine Learning Analyst</td>\n",
       "      <td>NetApp</td>\n",
       "      <td>Are you data-driven? We at NetApp believe in t...</td>\n",
       "      <td>Sunnyvale, CA</td>\n",
       "    </tr>\n",
       "    <tr>\n",
       "      <th>6961</th>\n",
       "      <td>Intern Scientist</td>\n",
       "      <td>Oath Inc</td>\n",
       "      <td>Oath, a subsidiary of Verizon, is a values-led...</td>\n",
       "      <td>Sunnyvale, CA</td>\n",
       "    </tr>\n",
       "    <tr>\n",
       "      <th>6963</th>\n",
       "      <td>Principal Data Scientist, Deep Learning</td>\n",
       "      <td>Comcast</td>\n",
       "      <td>Comcast’s Technology &amp;amp; Product organizatio...</td>\n",
       "      <td>Sunnyvale, CA 94089</td>\n",
       "    </tr>\n",
       "  </tbody>\n",
       "</table>\n",
       "<p>2852 rows × 4 columns</p>\n",
       "</div>"
      ],
      "text/plain": [
       "                                               position  \\\n",
       "2                                        Data Scientist   \n",
       "3                                          Data Analyst   \n",
       "14    Business Intelligence Data Science Analyst - S...   \n",
       "15                                       Data Scientist   \n",
       "18                                       Data Scientist   \n",
       "19                                       Data Scientist   \n",
       "21    Sr. Manager, Full Stack Development, KPMG Tax ...   \n",
       "22                                       Data Scientist   \n",
       "23                        DATA SCIENTIST - Supply Chain   \n",
       "24                     Data Scientist, Keying & Linking   \n",
       "25                                       Data Scientist   \n",
       "26                 Data Scientist 1 – AP Forensics Team   \n",
       "27                                 Data Scientist - ICL   \n",
       "29    Data Scientist - CONSULTANT Level - ORLANDO FL...   \n",
       "30                                Senior Data Scientist   \n",
       "31    Business Intelligence Data Scientist - Supply ...   \n",
       "34                                       Data Scientist   \n",
       "36                                       Data Scientist   \n",
       "39                  DATA SCIENTIST - SPACE OPTIMIZATION   \n",
       "41                                Senior Data Scientist   \n",
       "42                  Manager - Data Scientist ! Orlando!   \n",
       "44                                  Lead Data Scientist   \n",
       "45                                Senior Data Scientist   \n",
       "46    Data Scientist - Consultant Level - Orlando, F...   \n",
       "47               Flight Safety Data Analysis Fall Co-Op   \n",
       "48                        Chief Deep Learning Scientist   \n",
       "51                             Director, Data Scientist   \n",
       "54                                   VP, Data Analytics   \n",
       "55                              Lead Decision Scientist   \n",
       "57        Data Scientist or Data Scientist Lead PS10268   \n",
       "...                                                 ...   \n",
       "6917                                 Security Scientist   \n",
       "6918                                  Sr Data Scientist   \n",
       "6922                   Data Scientist- Growth Analytics   \n",
       "6923                              Senior Data Scientist   \n",
       "6924                                     Data Scientist   \n",
       "6926             Lead Data Scientist - Machine Learning   \n",
       "6927         Staff Data Scientist - Tech CA (TECH12458)   \n",
       "6928                         Machine Learning Scientist   \n",
       "6929            Data Scientist, Path Forward Returnship   \n",
       "6930                                     Data Scientist   \n",
       "6931       Data Scientist - Alexa Language Technologies   \n",
       "6932                                     Data Scientist   \n",
       "6933                                     Data Scientist   \n",
       "6934  Data Scientist, Cloud Revenue Acceleration, Go...   \n",
       "6935                           Data & Applied Scientist   \n",
       "6936       Data Scientist - Alexa Language Technologies   \n",
       "6937                      Data Scientist / Data Analyst   \n",
       "6943                               Staff Data Scientist   \n",
       "6944        Staff Data Scientist, Search/Online Grocery   \n",
       "6946                                 Research Scientist   \n",
       "6947                 Applied Machine Learning Scientist   \n",
       "6949  Systems software Performance Data Scientist Su...   \n",
       "6950                   Applied Scientist - Alexa Engine   \n",
       "6952  Image processing Deep learning Research Scientist   \n",
       "6953           Machine Learning Scientist, Amazon Alexa   \n",
       "6955                                      Data Engineer   \n",
       "6958                   Senior Data Scientist (GEC11902)   \n",
       "6959          Data Developer / Machine Learning Analyst   \n",
       "6961                                   Intern Scientist   \n",
       "6963            Principal Data Scientist, Deep Learning   \n",
       "\n",
       "                              company  \\\n",
       "2                      Xpert Staffing   \n",
       "3                      Operation HOPE   \n",
       "14                      Newell Brands   \n",
       "15                           Cotiviti   \n",
       "18                        Relus Cloud   \n",
       "19                     Inspire Brands   \n",
       "21                               KPMG   \n",
       "22              Norfolk Southern Corp   \n",
       "23                     The Home Depot   \n",
       "24                            Equifax   \n",
       "25                            AirSage   \n",
       "26                     The Home Depot   \n",
       "27    Georgia Tech Research Institute   \n",
       "29                          Capgemini   \n",
       "30                 Catalina Marketing   \n",
       "31                      Newell Brands   \n",
       "34                          SalesLoft   \n",
       "36                The Intersect Group   \n",
       "39                     The Home Depot   \n",
       "41                           Cotiviti   \n",
       "42                          Capgemini   \n",
       "44              Norfolk Southern Corp   \n",
       "45              Norfolk Southern Corp   \n",
       "46                          Capgemini   \n",
       "47                    Delta Air Lines   \n",
       "48                 YIWEI Medical Inc.   \n",
       "51                               KPMG   \n",
       "54                          TCGplayer   \n",
       "55            Moxie Interactive, Inc.   \n",
       "57                       Anthem, Inc.   \n",
       "...                               ...   \n",
       "6917                        Baidu USA   \n",
       "6918                         Oath Inc   \n",
       "6922                         Oath Inc   \n",
       "6923                 Castlight Health   \n",
       "6924                       Proofpoint   \n",
       "6926                           TARGET   \n",
       "6927                Walmart eCommerce   \n",
       "6928                       Amazon.com   \n",
       "6929                Walmart eCommerce   \n",
       "6930                Linc Global, Inc.   \n",
       "6931                           Lab126   \n",
       "6932                         Oath Inc   \n",
       "6933                      Bosch Group   \n",
       "6934                           Google   \n",
       "6935                        Microsoft   \n",
       "6936                       Amazon.com   \n",
       "6937                           Arosys   \n",
       "6943                Walmart eCommerce   \n",
       "6944                Walmart eCommerce   \n",
       "6946                       Amazon.com   \n",
       "6947                       Amazon.com   \n",
       "6949                          Alibaba   \n",
       "6950                       Amazon.com   \n",
       "6952                   Whiterabbit.ai   \n",
       "6953                       Amazon.com   \n",
       "6955                       Amazon.com   \n",
       "6958                          Walmart   \n",
       "6959                           NetApp   \n",
       "6961                         Oath Inc   \n",
       "6963                          Comcast   \n",
       "\n",
       "                                            description             location  \n",
       "2     Growing company located in the Atlanta, GA are...          Atlanta, GA  \n",
       "3     DEPARTMENT: Program OperationsPOSITION LOCATIO...   Atlanta, GA 30303   \n",
       "14    Data Science Analyst– Business Intelligence\\nL...          Atlanta, GA  \n",
       "15    Cotiviti is looking for an industry leading Da...          Atlanta, GA  \n",
       "18    DATA SCIENTIST\\n\\nSUMMARY:\\nAs an Amazon Web S...          Atlanta, GA  \n",
       "19    This position is critical to understanding dri...          Atlanta, GA  \n",
       "21    Known for being a great place to work and buil...    Atlanta, GA 30338  \n",
       "22    Join a growing Data Science and Advanced Analy...   Atlanta, GA 30309   \n",
       "23    POSITION PURPOSE:\\nA Data Scientist leverages ...          Atlanta, GA  \n",
       "24    Job Number: 16614\\nPosition Title:\\nExternal D...          Atlanta, GA  \n",
       "25    AirSage has been in the business of providing ...          Atlanta, GA  \n",
       "26    POSITION PURPOSE:\\nThe Data Scientist I will p...          Atlanta, GA  \n",
       "27    Full-time, permanent position available starti...   Atlanta, GA 30318   \n",
       "29    Overview:\\nConsultant\\n\\nThe Data Science &amp...          Atlanta, GA  \n",
       "30    Sr. Data Scientist\\n\\nWHY CATALINA\\n\\nCatalina...          Atlanta, GA  \n",
       "31    Data Scientist – Business Intelligence\\nLocati...          Atlanta, GA  \n",
       "34    We are looking for a Data Scientist who is pas...          Atlanta, GA  \n",
       "36    Responsibilities:Help to drive the analytical ...    Atlanta, GA 30328  \n",
       "39    POSITION PURPOSE\\nThe Data Scientist Space Opt...          Atlanta, GA  \n",
       "41    Cotiviti is looking for an industry leading Da...          Atlanta, GA  \n",
       "42    Manager – Orlando location\\n\\nOverview:\\nThe D...          Atlanta, GA  \n",
       "44    Join a growing Data Science and Advanced Analy...   Atlanta, GA 30309   \n",
       "45    Join a growing Data Science and Advanced Analy...   Atlanta, GA 30309   \n",
       "46    Consultant - Orlando, Florida\\n\\nThe Data Scie...          Atlanta, GA  \n",
       "47    Responsibilities include duties to support Fli...          Atlanta, GA  \n",
       "48    We are looking for talented, driven and autono...          Atlanta, GA  \n",
       "51    Innovate. Collaborate. Shine. Lighthouse — KPM...    Atlanta, GA 30338  \n",
       "54    ********************\\nVP of Data Analytics\\n**...          Atlanta, GA  \n",
       "55    Leading the use of modeling, algorithms, and c...   Atlanta, GA 30313   \n",
       "57    Your Talent. Our Vision. At Anthem, Inc., it’s...   Atlanta, GA 30301   \n",
       "...                                                 ...                  ...  \n",
       "6917  Baidu USA, headquartered in Silicon Valley, is...  Sunnyvale, CA 94089  \n",
       "6918  Oath, a subsidiary of Verizon, is a values-led...        Sunnyvale, CA  \n",
       "6922  Oath, a subsidiary of Verizon, is a values-led...        Sunnyvale, CA  \n",
       "6923  We’re hiring data scientists for a team of dat...  Sunnyvale, CA 94086  \n",
       "6924  Company Overview\\nAt Proofpoint, we have a pas...  Sunnyvale, CA 94089  \n",
       "6926  Description:\\nJoin the Target.com interactive ...        Sunnyvale, CA  \n",
       "6927  Position Description\\nThe @WalmartLabs Persona...        Sunnyvale, CA  \n",
       "6928  Job Description\\n\\nAmazon is looking for a pas...        Sunnyvale, CA  \n",
       "6929  Position Description\\nAt Walmart Labs we’re re...        Sunnyvale, CA  \n",
       "6930  Why you should join:\\n\\nJoin us in building th...        Sunnyvale, CA  \n",
       "6931  Job Description\\nAmazon Lab126 is an inventive...        Sunnyvale, CA  \n",
       "6932  Oath, a subsidiary of Verizon, is a values-led...        Sunnyvale, CA  \n",
       "6933  Job Description\\n\\nPrimary Responsibilities:\\n...  Sunnyvale, CA 94085  \n",
       "6934  The Google Cloud Platform team helps customers...        Sunnyvale, CA  \n",
       "6935  Speech team at Microsoft builds the most advan...        Sunnyvale, CA  \n",
       "6936  Job Description\\nAmazon Lab126 is an inventive...        Sunnyvale, CA  \n",
       "6937  Are you a driven and inquisitive data scientis...        Sunnyvale, CA  \n",
       "6943  Position Description\\nVoice Commerce Data Scie...        Sunnyvale, CA  \n",
       "6944  Position Description\\nIn this role you will\\nA...        Sunnyvale, CA  \n",
       "6946  Job Description\\nAlexa is the Amazon cloud ser...        Sunnyvale, CA  \n",
       "6947  Job Description\\nExternal job description\\nAma...        Sunnyvale, CA  \n",
       "6949  We are the System Performance Team of Alibaba ...        Sunnyvale, CA  \n",
       "6950  Job Description\\nInterested in making the ‘Ale...        Sunnyvale, CA  \n",
       "6952  Whiterabbit.ai is a leading venture-backed sta...  Sunnyvale, CA 94085  \n",
       "6953  Job Description\\nAmazon is looking for a passi...        Sunnyvale, CA  \n",
       "6955  Job Description\\nToday, people spend too much ...        Sunnyvale, CA  \n",
       "6958  Position Description\\nProficient in Java or Py...  Sunnyvale, CA 94086  \n",
       "6959  Are you data-driven? We at NetApp believe in t...        Sunnyvale, CA  \n",
       "6961  Oath, a subsidiary of Verizon, is a values-led...        Sunnyvale, CA  \n",
       "6963  Comcast’s Technology &amp; Product organizatio...  Sunnyvale, CA 94089  \n",
       "\n",
       "[2852 rows x 4 columns]"
      ]
     },
     "execution_count": 98,
     "metadata": {},
     "output_type": "execute_result"
    }
   ],
   "source": [
    "df[df['description'].str.contains('python', case = False)]"
   ]
  },
  {
   "cell_type": "markdown",
   "metadata": {},
   "source": [
    "With the ``len`` method, the number of entries with in the description column with the word \"python\" can be counted."
   ]
  },
  {
   "cell_type": "code",
   "execution_count": 99,
   "metadata": {},
   "outputs": [
    {
     "data": {
      "text/plain": [
       "2852"
      ]
     },
     "execution_count": 99,
     "metadata": {},
     "output_type": "execute_result"
    }
   ],
   "source": [
    "len(df[df['description'].str.contains('python', case = False)])"
   ]
  },
  {
   "cell_type": "markdown",
   "metadata": {},
   "source": [
    "The same process can be carried out to compute how many times other skills of interest appear in the data."
   ]
  },
  {
   "cell_type": "code",
   "execution_count": 100,
   "metadata": {},
   "outputs": [
    {
     "name": "stdout",
     "output_type": "stream",
     "text": [
      "python: 2852\n",
      "excel: 3566\n",
      "sas: 853\n"
     ]
    }
   ],
   "source": [
    "print('python:', len(df[df['description'].str.contains('python', case = False)]))\n",
    "print('excel:', len(df[df['description'].str.contains('excel', case = False)]))\n",
    "print('sas:', len(df[df['description'].str.contains('sas', case = False)]))"
   ]
  },
  {
   "cell_type": "markdown",
   "metadata": {},
   "source": [
    "The case of the ``R`` language is quiet different, as it is denoted by capital letter **R** standing alone. Python can mistake \"r\" anywhere within the strings for this, and whether it stands alone or not if not instructed properly, the interpretation will always be wrong. The piece of code is therefore written a little differently."
   ]
  },
  {
   "cell_type": "code",
   "execution_count": 101,
   "metadata": {},
   "outputs": [
    {
     "data": {
      "text/plain": [
       "1509"
      ]
     },
     "execution_count": 101,
     "metadata": {},
     "output_type": "execute_result"
    }
   ],
   "source": [
    "len(df[df['description'].str.contains(' R |R ', case = True)])"
   ]
  },
  {
   "cell_type": "markdown",
   "metadata": {},
   "source": [
    "Trying it any other way will produce other results."
   ]
  },
  {
   "cell_type": "code",
   "execution_count": 102,
   "metadata": {},
   "outputs": [
    {
     "name": "stdout",
     "output_type": "stream",
     "text": [
      "5740\n",
      "1509\n",
      "6590\n",
      "515\n"
     ]
    }
   ],
   "source": [
    "print(len(df[df['description'].str.contains(' R', case = True)]))\n",
    "print(len(df[df['description'].str.contains('R ', case = True)]))\n",
    "print(len(df[df['description'].str.contains('R', case = True)]))\n",
    "print(len(df[df['description'].str.contains(' R ', case = True)]))"
   ]
  },
  {
   "cell_type": "markdown",
   "metadata": {},
   "source": [
    "For a larger number of skills (pegged at ten selected ones), a function can be defined for the same computation."
   ]
  },
  {
   "cell_type": "code",
   "execution_count": 103,
   "metadata": {},
   "outputs": [],
   "source": [
    "def gen_skills(frame, col):\n",
    "    \n",
    "    #generic skills\n",
    "    skils = ['python', 'excel', 'tableau', 'sas', 'sql', 'java', 'html', 'machine learning', 'hadoop', 'matlab']\n",
    "    \n",
    "    #gen_len\n",
    "    ski_len_li = []\n",
    "    ski_len_li.append(len(frame[frame[col].str.contains(' R |R ', case = True)]))\n",
    "    for i in skils:\n",
    "        ski_len_li.append(len(frame[frame[col].str.contains(i, case = False)]))\n",
    "    \n",
    "    skill_list = ['R', 'python', 'Excel', 'Tableau', 'SAS', 'SQL', 'Java', 'HTML', 'ML',\n",
    "                  'Hadoop', 'MatLab']\n",
    "    \n",
    "    len_series = list(zip(skill_list, ski_len_li))\n",
    "    \n",
    "    return pd.DataFrame(len_series, columns = ['Skills', 'Count'])"
   ]
  },
  {
   "cell_type": "code",
   "execution_count": 104,
   "metadata": {},
   "outputs": [],
   "source": [
    "skills_df = gen_skills(df, 'description')"
   ]
  },
  {
   "cell_type": "code",
   "execution_count": 105,
   "metadata": {},
   "outputs": [
    {
     "data": {
      "text/html": [
       "<div>\n",
       "<style scoped>\n",
       "    .dataframe tbody tr th:only-of-type {\n",
       "        vertical-align: middle;\n",
       "    }\n",
       "\n",
       "    .dataframe tbody tr th {\n",
       "        vertical-align: top;\n",
       "    }\n",
       "\n",
       "    .dataframe thead th {\n",
       "        text-align: right;\n",
       "    }\n",
       "</style>\n",
       "<table border=\"1\" class=\"dataframe\">\n",
       "  <thead>\n",
       "    <tr style=\"text-align: right;\">\n",
       "      <th></th>\n",
       "      <th>Skills</th>\n",
       "      <th>Count</th>\n",
       "    </tr>\n",
       "  </thead>\n",
       "  <tbody>\n",
       "    <tr>\n",
       "      <th>0</th>\n",
       "      <td>R</td>\n",
       "      <td>1509</td>\n",
       "    </tr>\n",
       "    <tr>\n",
       "      <th>1</th>\n",
       "      <td>python</td>\n",
       "      <td>2852</td>\n",
       "    </tr>\n",
       "    <tr>\n",
       "      <th>2</th>\n",
       "      <td>Excel</td>\n",
       "      <td>3566</td>\n",
       "    </tr>\n",
       "    <tr>\n",
       "      <th>3</th>\n",
       "      <td>Tableau</td>\n",
       "      <td>492</td>\n",
       "    </tr>\n",
       "    <tr>\n",
       "      <th>4</th>\n",
       "      <td>SAS</td>\n",
       "      <td>853</td>\n",
       "    </tr>\n",
       "    <tr>\n",
       "      <th>5</th>\n",
       "      <td>SQL</td>\n",
       "      <td>1924</td>\n",
       "    </tr>\n",
       "    <tr>\n",
       "      <th>6</th>\n",
       "      <td>Java</td>\n",
       "      <td>1397</td>\n",
       "    </tr>\n",
       "    <tr>\n",
       "      <th>7</th>\n",
       "      <td>HTML</td>\n",
       "      <td>205</td>\n",
       "    </tr>\n",
       "    <tr>\n",
       "      <th>8</th>\n",
       "      <td>ML</td>\n",
       "      <td>2452</td>\n",
       "    </tr>\n",
       "    <tr>\n",
       "      <th>9</th>\n",
       "      <td>Hadoop</td>\n",
       "      <td>925</td>\n",
       "    </tr>\n",
       "    <tr>\n",
       "      <th>10</th>\n",
       "      <td>MatLab</td>\n",
       "      <td>564</td>\n",
       "    </tr>\n",
       "  </tbody>\n",
       "</table>\n",
       "</div>"
      ],
      "text/plain": [
       "     Skills  Count\n",
       "0         R   1509\n",
       "1    python   2852\n",
       "2     Excel   3566\n",
       "3   Tableau    492\n",
       "4       SAS    853\n",
       "5       SQL   1924\n",
       "6      Java   1397\n",
       "7      HTML    205\n",
       "8        ML   2452\n",
       "9    Hadoop    925\n",
       "10   MatLab    564"
      ]
     },
     "execution_count": 105,
     "metadata": {},
     "output_type": "execute_result"
    }
   ],
   "source": [
    "skills_df"
   ]
  },
  {
   "cell_type": "code",
   "execution_count": 106,
   "metadata": {},
   "outputs": [
    {
     "data": {
      "text/plain": [
       "<matplotlib.axes._subplots.AxesSubplot at 0x1a1d42f978>"
      ]
     },
     "execution_count": 106,
     "metadata": {},
     "output_type": "execute_result"
    },
    {
     "data": {
      "image/png": "[encoded data removed]",
      "text/plain": [
       "<Figure size 432x288 with 1 Axes>"
      ]
     },
     "metadata": {
      "needs_background": "light"
     },
     "output_type": "display_data"
    }
   ],
   "source": [
    "sns.barplot(y = skills_df['Skills'].head(15), x = skills_df['Count'].head(15))"
   ]
  },
  {
   "cell_type": "code",
   "execution_count": 107,
   "metadata": {},
   "outputs": [],
   "source": [
    "writer = pd.ExcelWriter('Skills.xlsx')\n",
    "skills_df.to_excel(writer,'Sheet1')\n",
    "writer.save()"
   ]
  },
  {
   "cell_type": "code",
   "execution_count": 108,
   "metadata": {},
   "outputs": [
    {
     "data": {
      "text/html": [
       "<div>\n",
       "<style scoped>\n",
       "    .dataframe tbody tr th:only-of-type {\n",
       "        vertical-align: middle;\n",
       "    }\n",
       "\n",
       "    .dataframe tbody tr th {\n",
       "        vertical-align: top;\n",
       "    }\n",
       "\n",
       "    .dataframe thead th {\n",
       "        text-align: right;\n",
       "    }\n",
       "</style>\n",
       "<table border=\"1\" class=\"dataframe\">\n",
       "  <thead>\n",
       "    <tr style=\"text-align: right;\">\n",
       "      <th></th>\n",
       "      <th>Skills</th>\n",
       "      <th>Count</th>\n",
       "    </tr>\n",
       "  </thead>\n",
       "  <tbody>\n",
       "    <tr>\n",
       "      <th>0</th>\n",
       "      <td>R</td>\n",
       "      <td>1509</td>\n",
       "    </tr>\n",
       "    <tr>\n",
       "      <th>1</th>\n",
       "      <td>python</td>\n",
       "      <td>2852</td>\n",
       "    </tr>\n",
       "    <tr>\n",
       "      <th>2</th>\n",
       "      <td>Excel</td>\n",
       "      <td>3566</td>\n",
       "    </tr>\n",
       "    <tr>\n",
       "      <th>3</th>\n",
       "      <td>Tableau</td>\n",
       "      <td>492</td>\n",
       "    </tr>\n",
       "    <tr>\n",
       "      <th>4</th>\n",
       "      <td>SAS</td>\n",
       "      <td>853</td>\n",
       "    </tr>\n",
       "    <tr>\n",
       "      <th>5</th>\n",
       "      <td>SQL</td>\n",
       "      <td>1924</td>\n",
       "    </tr>\n",
       "    <tr>\n",
       "      <th>6</th>\n",
       "      <td>Java</td>\n",
       "      <td>1397</td>\n",
       "    </tr>\n",
       "    <tr>\n",
       "      <th>7</th>\n",
       "      <td>HTML</td>\n",
       "      <td>205</td>\n",
       "    </tr>\n",
       "    <tr>\n",
       "      <th>8</th>\n",
       "      <td>ML</td>\n",
       "      <td>2452</td>\n",
       "    </tr>\n",
       "    <tr>\n",
       "      <th>9</th>\n",
       "      <td>Hadoop</td>\n",
       "      <td>925</td>\n",
       "    </tr>\n",
       "    <tr>\n",
       "      <th>10</th>\n",
       "      <td>MatLab</td>\n",
       "      <td>564</td>\n",
       "    </tr>\n",
       "  </tbody>\n",
       "</table>\n",
       "</div>"
      ],
      "text/plain": [
       "     Skills  Count\n",
       "0         R   1509\n",
       "1    python   2852\n",
       "2     Excel   3566\n",
       "3   Tableau    492\n",
       "4       SAS    853\n",
       "5       SQL   1924\n",
       "6      Java   1397\n",
       "7      HTML    205\n",
       "8        ML   2452\n",
       "9    Hadoop    925\n",
       "10   MatLab    564"
      ]
     },
     "execution_count": 108,
     "metadata": {},
     "output_type": "execute_result"
    }
   ],
   "source": [
    "pd.read_excel('Skills.xlsx')"
   ]
  },
  {
   "cell_type": "markdown",
   "metadata": {},
   "source": [
    "Knowledge of **Machine Learning Algorithms** are also quite important determinants for Data Roles. A few of the popular ML algorithms have been chosen, and function similar to ``gen_skills`` can be used to compute the frequency of these algorithms in description column of the data."
   ]
  },
  {
   "cell_type": "code",
   "execution_count": 109,
   "metadata": {},
   "outputs": [],
   "source": [
    "def ml_algo(frame, col):\n",
    "    \n",
    "    #algo\n",
    "    algo_li = ['neural nets|neural networks', 'linear regression', 'logistic regression', 'decision tree', \n",
    "              'random forest', 'natural language processing|nlp', 'support vector machine|svm', \n",
    "               'k means|kmeans|k means clustering', 'pca|principal component', 'bayes', 'linear discriminant']\n",
    "    \n",
    "    #algo_len_list\n",
    "    algo_len_li = []\n",
    "    for i in algo_li:\n",
    "        algo_len_li.append(len(frame[frame[col].str.contains(i, case = False)]))\n",
    "    \n",
    "    algori_li = ['Neural Networks', 'Linear Regression', \n",
    "                  'Logistic Regression', 'Decision Trees', 'Random Forest', 'NLP', 'SVM', \n",
    "                  'Kmeans', 'KNN', 'PCA', 'Bayes', 'LDA']\n",
    "    \n",
    "    len_series = list(zip(algori_li, algo_len_li))\n",
    "    \n",
    "    return pd.DataFrame(len_series, columns = ['Skills', 'Count'])"
   ]
  },
  {
   "cell_type": "code",
   "execution_count": 110,
   "metadata": {},
   "outputs": [],
   "source": [
    "algo_df = ml_algo(df, 'description')"
   ]
  },
  {
   "cell_type": "code",
   "execution_count": 111,
   "metadata": {},
   "outputs": [
    {
     "data": {
      "text/html": [
       "<div>\n",
       "<style scoped>\n",
       "    .dataframe tbody tr th:only-of-type {\n",
       "        vertical-align: middle;\n",
       "    }\n",
       "\n",
       "    .dataframe tbody tr th {\n",
       "        vertical-align: top;\n",
       "    }\n",
       "\n",
       "    .dataframe thead th {\n",
       "        text-align: right;\n",
       "    }\n",
       "</style>\n",
       "<table border=\"1\" class=\"dataframe\">\n",
       "  <thead>\n",
       "    <tr style=\"text-align: right;\">\n",
       "      <th></th>\n",
       "      <th>Skills</th>\n",
       "      <th>Count</th>\n",
       "    </tr>\n",
       "  </thead>\n",
       "  <tbody>\n",
       "    <tr>\n",
       "      <th>0</th>\n",
       "      <td>Neural Networks</td>\n",
       "      <td>314</td>\n",
       "    </tr>\n",
       "    <tr>\n",
       "      <th>1</th>\n",
       "      <td>Linear Regression</td>\n",
       "      <td>62</td>\n",
       "    </tr>\n",
       "    <tr>\n",
       "      <th>2</th>\n",
       "      <td>Logistic Regression</td>\n",
       "      <td>95</td>\n",
       "    </tr>\n",
       "    <tr>\n",
       "      <th>3</th>\n",
       "      <td>Decision Trees</td>\n",
       "      <td>153</td>\n",
       "    </tr>\n",
       "    <tr>\n",
       "      <th>4</th>\n",
       "      <td>Random Forest</td>\n",
       "      <td>130</td>\n",
       "    </tr>\n",
       "    <tr>\n",
       "      <th>5</th>\n",
       "      <td>NLP</td>\n",
       "      <td>628</td>\n",
       "    </tr>\n",
       "    <tr>\n",
       "      <th>6</th>\n",
       "      <td>SVM</td>\n",
       "      <td>127</td>\n",
       "    </tr>\n",
       "    <tr>\n",
       "      <th>7</th>\n",
       "      <td>Kmeans</td>\n",
       "      <td>17</td>\n",
       "    </tr>\n",
       "    <tr>\n",
       "      <th>8</th>\n",
       "      <td>KNN</td>\n",
       "      <td>42</td>\n",
       "    </tr>\n",
       "    <tr>\n",
       "      <th>9</th>\n",
       "      <td>PCA</td>\n",
       "      <td>195</td>\n",
       "    </tr>\n",
       "    <tr>\n",
       "      <th>10</th>\n",
       "      <td>Bayes</td>\n",
       "      <td>0</td>\n",
       "    </tr>\n",
       "  </tbody>\n",
       "</table>\n",
       "</div>"
      ],
      "text/plain": [
       "                 Skills  Count\n",
       "0       Neural Networks    314\n",
       "1     Linear Regression     62\n",
       "2   Logistic Regression     95\n",
       "3        Decision Trees    153\n",
       "4         Random Forest    130\n",
       "5                   NLP    628\n",
       "6                   SVM    127\n",
       "7                Kmeans     17\n",
       "8                   KNN     42\n",
       "9                   PCA    195\n",
       "10                Bayes      0"
      ]
     },
     "execution_count": 111,
     "metadata": {},
     "output_type": "execute_result"
    }
   ],
   "source": [
    "algo_df"
   ]
  },
  {
   "cell_type": "code",
   "execution_count": 112,
   "metadata": {},
   "outputs": [
    {
     "data": {
      "text/plain": [
       "<matplotlib.axes._subplots.AxesSubplot at 0x1a1c7aea20>"
      ]
     },
     "execution_count": 112,
     "metadata": {},
     "output_type": "execute_result"
    },
    {
     "data": {
      "image/png": "[encoded data removed]",
      "text/plain": [
       "<Figure size 432x288 with 1 Axes>"
      ]
     },
     "metadata": {
      "needs_background": "light"
     },
     "output_type": "display_data"
    }
   ],
   "source": [
    "sns.barplot(y = algo_df['Skills'], x = algo_df['Count'].head(15))"
   ]
  },
  {
   "cell_type": "code",
   "execution_count": 113,
   "metadata": {},
   "outputs": [],
   "source": [
    "writer = pd.ExcelWriter('Algorithms.xlsx')\n",
    "algo_df.to_excel(writer,'Sheet1')\n",
    "writer.save()"
   ]
  },
  {
   "cell_type": "code",
   "execution_count": 114,
   "metadata": {},
   "outputs": [
    {
     "data": {
      "text/html": [
       "<div>\n",
       "<style scoped>\n",
       "    .dataframe tbody tr th:only-of-type {\n",
       "        vertical-align: middle;\n",
       "    }\n",
       "\n",
       "    .dataframe tbody tr th {\n",
       "        vertical-align: top;\n",
       "    }\n",
       "\n",
       "    .dataframe thead th {\n",
       "        text-align: right;\n",
       "    }\n",
       "</style>\n",
       "<table border=\"1\" class=\"dataframe\">\n",
       "  <thead>\n",
       "    <tr style=\"text-align: right;\">\n",
       "      <th></th>\n",
       "      <th>Skills</th>\n",
       "      <th>Count</th>\n",
       "    </tr>\n",
       "  </thead>\n",
       "  <tbody>\n",
       "    <tr>\n",
       "      <th>0</th>\n",
       "      <td>Neural Networks</td>\n",
       "      <td>314</td>\n",
       "    </tr>\n",
       "    <tr>\n",
       "      <th>1</th>\n",
       "      <td>Linear Regression</td>\n",
       "      <td>62</td>\n",
       "    </tr>\n",
       "    <tr>\n",
       "      <th>2</th>\n",
       "      <td>Logistic Regression</td>\n",
       "      <td>95</td>\n",
       "    </tr>\n",
       "    <tr>\n",
       "      <th>3</th>\n",
       "      <td>Decision Trees</td>\n",
       "      <td>153</td>\n",
       "    </tr>\n",
       "    <tr>\n",
       "      <th>4</th>\n",
       "      <td>Random Forest</td>\n",
       "      <td>130</td>\n",
       "    </tr>\n",
       "    <tr>\n",
       "      <th>5</th>\n",
       "      <td>NLP</td>\n",
       "      <td>628</td>\n",
       "    </tr>\n",
       "    <tr>\n",
       "      <th>6</th>\n",
       "      <td>SVM</td>\n",
       "      <td>127</td>\n",
       "    </tr>\n",
       "    <tr>\n",
       "      <th>7</th>\n",
       "      <td>Kmeans</td>\n",
       "      <td>17</td>\n",
       "    </tr>\n",
       "    <tr>\n",
       "      <th>8</th>\n",
       "      <td>KNN</td>\n",
       "      <td>42</td>\n",
       "    </tr>\n",
       "    <tr>\n",
       "      <th>9</th>\n",
       "      <td>PCA</td>\n",
       "      <td>195</td>\n",
       "    </tr>\n",
       "    <tr>\n",
       "      <th>10</th>\n",
       "      <td>Bayes</td>\n",
       "      <td>0</td>\n",
       "    </tr>\n",
       "  </tbody>\n",
       "</table>\n",
       "</div>"
      ],
      "text/plain": [
       "                 Skills  Count\n",
       "0       Neural Networks    314\n",
       "1     Linear Regression     62\n",
       "2   Logistic Regression     95\n",
       "3        Decision Trees    153\n",
       "4         Random Forest    130\n",
       "5                   NLP    628\n",
       "6                   SVM    127\n",
       "7                Kmeans     17\n",
       "8                   KNN     42\n",
       "9                   PCA    195\n",
       "10                Bayes      0"
      ]
     },
     "execution_count": 114,
     "metadata": {},
     "output_type": "execute_result"
    }
   ],
   "source": [
    "pd.read_excel('Algorithms.xlsx')"
   ]
  },
  {
   "cell_type": "markdown",
   "metadata": {},
   "source": [
    "### Fancy Visualization\n",
    "\n",
    "Fancy visualizations isn't one of this environment, hence Tableau, amongst other alternative are good options. The data exported from here can be used to make these visualizations"
   ]
  },
  {
   "cell_type": "markdown",
   "metadata": {},
   "source": [
    "### Conclusion\n",
    "\n",
    "This are insights gleaned from just one month of job postings. Other months definitely would have variations. But in all, information from the Job Description cannot be misleading, and can serve advisory role to folks seeking opportunities. There are others ways the data can be manipulated to get insights from it. Features like the location, education and so on can be brought out the data."
   ]
  }
 ],
 "metadata": {
  "kernelspec": {
   "display_name": "Python 3",
   "language": "python",
   "name": "python3"
  },
  "language_info": {
   "codemirror_mode": {
    "name": "ipython",
    "version": 3
   },
   "file_extension": ".py",
   "mimetype": "text/x-python",
   "name": "python",
   "nbconvert_exporter": "python",
   "pygments_lexer": "ipython3",
   "version": "3.7.1"
  }
 },
 "nbformat": 4,
 "nbformat_minor": 2
}
